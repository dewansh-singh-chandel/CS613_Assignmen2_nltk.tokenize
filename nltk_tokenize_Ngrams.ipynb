{
  "cells": [
    {
      "cell_type": "markdown",
      "metadata": {},
      "source": [
        "Importing required libraries"
      ]
    },
    {
      "cell_type": "code",
      "execution_count": 34,
      "metadata": {
        "colab": {
          "base_uri": "https://localhost:8080/"
        },
        "id": "WB4_W6a_HPdC",
        "outputId": "418f5ffe-871f-48c7-d0a1-fc0f3f87df44"
      },
      "outputs": [
        {
          "name": "stderr",
          "output_type": "stream",
          "text": [
            "[nltk_data] Downloading package punkt to /root/nltk_data...\n",
            "[nltk_data]   Package punkt is already up-to-date!\n",
            "[nltk_data] Downloading package stopwords to /root/nltk_data...\n",
            "[nltk_data]   Package stopwords is already up-to-date!\n"
          ]
        }
      ],
      "source": [
        "# importing required libraries and datasets\n",
        "import pandas as pd\n",
        "import math\n",
        "import numpy as np\n",
        "import nltk\n",
        "nltk.download('punkt')\n",
        "\n",
        "from nltk.corpus import stopwords\n",
        "from nltk.tokenize import sent_tokenize\n",
        "\n",
        "nltk.download('stopwords')\n",
        "stopwords = set(stopwords.words(\"english\"))"
      ]
    },
    {
      "cell_type": "markdown",
      "metadata": {},
      "source": [
        "Reading CSV file"
      ]
    },
    {
      "cell_type": "code",
      "execution_count": 35,
      "metadata": {
        "colab": {
          "base_uri": "https://localhost:8080/"
        },
        "id": "l5ks_rO0HdwS",
        "outputId": "9707aef3-4d8f-4355-df61-eacde63c0b5e"
      },
      "outputs": [
        {
          "name": "stdout",
          "output_type": "stream",
          "text": [
            "   Unnamed: 0  Post_ID Comment_ID  \\\n",
            "0           1  108l3ho    j3vlnat   \n",
            "1           2  10j6oqj    j5j34zb   \n",
            "2           3  10j6oqj    j5jbs3f   \n",
            "3           4  10j6oqj    j5jfczd   \n",
            "4           5  10o9tvi    j6h1ko8   \n",
            "5           6  10o9tvi    j88hrgq   \n",
            "6           7  10o9tvi    jh0junq   \n",
            "7           8  10o9tvi    j94k8o3   \n",
            "8           9  10o9tvi    j94kbno   \n",
            "9          10  10yjhn9    j7yqwxx   \n",
            "\n",
            "                                             Comment Majority_Sentiment  \n",
            "0  Some of them yes but this one i got it from my...            Neutral  \n",
            "1        I keep mine in my phone cover for good luck           Positive  \n",
            "2  Hang on to it! These are rare to come by as th...            Neutral  \n",
            "3  Yeah?! Cool, I got this from my classmate in 2...           Positive  \n",
            "4  Check out the Kaja Throm! Beautiful marketplac...           Positive  \n",
            "5  Out of curiosity what field of work brings you...           Positive  \n",
            "6  Definitely Dechenphu Lhakhang/Goenkhang! Seren...           Positive  \n",
            "7                     thank you! been to Kaja Throm.           Positive  \n",
            "8  I am in sales...technical sales. So trying to ...            Neutral  \n",
            "9  \"shall not get facilities that other citizens ...           Negative  \n"
          ]
        }
      ],
      "source": [
        "\n",
        "\n",
        "file_path = 'raw_reddit_data_filtered (1).csv'\n",
        "\n",
        "# Reading the file using pandas\n",
        "df = pd.read_csv(file_path)\n",
        "\n",
        "# Print the first 10 comments\n",
        "print(df.head(10))"
      ]
    },
    {
      "cell_type": "markdown",
      "metadata": {},
      "source": [
        "Preprocessing the data"
      ]
    },
    {
      "cell_type": "code",
      "execution_count": 36,
      "metadata": {
        "id": "loY5KoAE5f6H"
      },
      "outputs": [],
      "source": [
        "import re\n",
        "# We will do preprocessing by removing links, special characters(all except alphanumeric)\n",
        "# regex_pattern_for_HTTPlinks = r'http\\S+|www\\S+|\\@\\w+|\\#'\n",
        "regex_pattern_for_HTTPlinks = r'http[s]?:\\S+'\n",
        "regex_pattern_for_WWWlinks = r'www\\S+'\n",
        "regex_for_removing_hashtags = r'#\\S+'\n",
        "all_characters_expect_alphanumeric = r'[^A-Za-z0-9\\s]'\n",
        "\n",
        "comments = []\n",
        "processed_comments = []\n",
        "for _, row in df.iterrows():\n",
        "  comments += sent_tokenize(row[\"Comment\"])\n",
        "\n",
        "for comment in comments:\n",
        "  comment = re.sub(regex_pattern_for_HTTPlinks, '', comment)\n",
        "  comment = re.sub(regex_pattern_for_WWWlinks, '', comment)\n",
        "  comment = re.sub(regex_for_removing_hashtags, '', comment)\n",
        "  comment = re.sub(all_characters_expect_alphanumeric, '', comment)\n",
        "  comment = comment.lower()\n",
        "  comment = comment.strip().split(\" \")\n",
        "  for word in comment:\n",
        "    if word in stopwords:\n",
        "      comment.pop(comment.index(word))\n",
        "  if (len(comment) > 0):\n",
        "    processed_comments.append(comment)"
      ]
    },
    {
      "cell_type": "code",
      "execution_count": 37,
      "metadata": {
        "colab": {
          "base_uri": "https://localhost:8080/"
        },
        "id": "mlmEnNGVNwsA",
        "outputId": "6265980d-5a87-4318-c180-4faa03232615"
      },
      "outputs": [
        {
          "name": "stderr",
          "output_type": "stream",
          "text": [
            "<ipython-input-37-c836f18293e6>:3: VisibleDeprecationWarning: Creating an ndarray from ragged nested sequences (which is a list-or-tuple of lists-or-tuples-or ndarrays with different lengths or shapes) is deprecated. If you meant to do this, you must specify 'dtype=object' when creating the ndarray.\n",
            "  processed_comments = np.array(processed_comments)\n"
          ]
        }
      ],
      "source": [
        "# Set a random seed for reproducibility\n",
        "np.random.seed(55)\n",
        "processed_comments = np.array(processed_comments)\n",
        "# Shuffle the sentences randomly\n",
        "np.random.shuffle(processed_comments)\n",
        "\n",
        "# Calculate the index for the split (80% for training)\n",
        "split_index = int(0.8 * len(processed_comments))\n",
        "\n",
        "# Split the data into training and testing sets\n",
        "processed_corpus = list(processed_comments[:split_index])\n",
        "processed_test = list(processed_comments[split_index:])"
      ]
    },
    {
      "cell_type": "code",
      "execution_count": 38,
      "metadata": {
        "colab": {
          "base_uri": "https://localhost:8080/"
        },
        "id": "eOH8G_cFH6k_",
        "outputId": "ace7168b-c6af-45a3-8bde-ab9336eceea2"
      },
      "outputs": [
        {
          "data": {
            "text/plain": [
              "[['like',\n",
              "  'ive',\n",
              "  'also',\n",
              "  'started',\n",
              "  'working',\n",
              "  'definitely',\n",
              "  'are',\n",
              "  'lot',\n",
              "  'aspects',\n",
              "  'job',\n",
              "  'dont',\n",
              "  'use',\n",
              "  'much',\n",
              "  'math',\n",
              "  'etc',\n",
              "  'as',\n",
              "  'per',\n",
              "  'previous',\n",
              "  'experience',\n",
              "  'cant',\n",
              "  'one',\n",
              "  'expect',\n",
              "  'find',\n",
              "  'passion',\n",
              "  'soon'],\n",
              " ['emoluments',\n",
              "  'clause',\n",
              "  'about',\n",
              "  'personal',\n",
              "  'profit',\n",
              "  'ie',\n",
              "  'a',\n",
              "  'bribe',\n",
              "  'paid',\n",
              "  'him'],\n",
              " ['was',\n",
              "  'business',\n",
              "  'class',\n",
              "  'air',\n",
              "  'india',\n",
              "  'domestic',\n",
              "  'flight',\n",
              "  'went',\n",
              "  'use',\n",
              "  'washroom'],\n",
              " ['too', 'fraught', 'any', 'true', 'blue', 'want', 'ccp'],\n",
              " ['want', 'facts', 'people', 'racist'],\n",
              " ['hello'],\n",
              " ['one',\n",
              "  'them',\n",
              "  'showed',\n",
              "  'portugese',\n",
              "  'worker',\n",
              "  'a',\n",
              "  'portugese',\n",
              "  'factory',\n",
              "  'lol'],\n",
              " ['parents',\n",
              "  'are',\n",
              "  'still',\n",
              "  'living',\n",
              "  'delusion',\n",
              "  'wartime',\n",
              "  'would',\n",
              "  'blame',\n",
              "  'the',\n",
              "  'children',\n",
              "  'being',\n",
              "  'attached',\n",
              "  'technology',\n",
              "  'not',\n",
              "  'to',\n",
              "  'struggle',\n",
              "  'school'],\n",
              " ['sorry',\n",
              "  'color',\n",
              "  'revolution',\n",
              "  'failed',\n",
              "  'dudes',\n",
              "  'better',\n",
              "  'luck',\n",
              "  'next',\n",
              "  'time',\n",
              "  'cia'],\n",
              " ['is', 'their', 'work', 'should', 'be', 'done', 'them']]"
            ]
          },
          "execution_count": 38,
          "metadata": {},
          "output_type": "execute_result"
        }
      ],
      "source": [
        "processed_corpus[:10]"
      ]
    },
    {
      "cell_type": "markdown",
      "metadata": {
        "id": "EUuuMNuWH7hi"
      },
      "source": [
        "Lenght of train and test corpus"
      ]
    },
    {
      "cell_type": "code",
      "execution_count": 39,
      "metadata": {
        "colab": {
          "base_uri": "https://localhost:8080/"
        },
        "id": "G_6tlzOZH7Mh",
        "outputId": "0d0b5222-fa5e-45a3-be00-e930c269d5f8"
      },
      "outputs": [
        {
          "name": "stdout",
          "output_type": "stream",
          "text": [
            "267513\n",
            "66879\n"
          ]
        }
      ],
      "source": [
        "print(len(processed_corpus))\n",
        "print(len(processed_test))"
      ]
    },
    {
      "cell_type": "markdown",
      "metadata": {
        "id": "wYZ9U5aaIler"
      },
      "source": [
        "Fucntion for generating n grams within order n"
      ]
    },
    {
      "cell_type": "code",
      "execution_count": 40,
      "metadata": {
        "colab": {
          "base_uri": "https://localhost:8080/"
        },
        "id": "62gjjL0vIlNq",
        "outputId": "cca4ec58-fe45-4aa8-bc13-06097a299c2f"
      },
      "outputs": [
        {
          "name": "stdout",
          "output_type": "stream",
          "text": [
            "Sentence: [['like', 'ive', 'also', 'started', 'working', 'definitely', 'are', 'lot', 'aspects', 'job', 'dont', 'use', 'much', 'math', 'etc', 'as', 'per', 'previous', 'experience', 'cant', 'one', 'expect', 'find', 'passion', 'soon']]\n",
            "\n",
            "All bigrams and unigrams of the sentence-\n",
            "((('<s>',), ('<s>', 'like'), ('like',), ('like', 'ive'), ('ive',), ('ive', 'also'), ('also',), ('also', 'started'), ('started',), ('started', 'working'), ('working',), ('working', 'definitely'), ('definitely',), ('definitely', 'are'), ('are',), ('are', 'lot'), ('lot',), ('lot', 'aspects'), ('aspects',), ('aspects', 'job'), ('job',), ('job', 'dont'), ('dont',), ('dont', 'use'), ('use',), ('use', 'much'), ('much',), ('much', 'math'), ('math',), ('math', 'etc'), ('etc',), ('etc', 'as'), ('as',), ('as', 'per'), ('per',), ('per', 'previous'), ('previous',), ('previous', 'experience'), ('experience',), ('experience', 'cant'), ('cant',), ('cant', 'one'), ('one',), ('one', 'expect'), ('expect',), ('expect', 'find'), ('find',), ('find', 'passion'), ('passion',), ('passion', 'soon'), ('soon',), ('soon', '</s>')),)\n"
          ]
        }
      ],
      "source": [
        "from copy import deepcopy\n",
        "def everygram_creator(order,processed_corpus):    # function for creating every  ngrams of length <= order\n",
        "\n",
        "  copy_corpus = deepcopy(processed_corpus)  # creating copy of the dataset so  orginal do\n",
        "\n",
        "  for i in range(len(copy_corpus)):\n",
        "    # padding each sentence token according to order\n",
        "\n",
        "    copy_corpus[i]  =  [\"<s>\"]*(order-1) + copy_corpus[i] + [\"</s>\"]*(order-1)\n",
        "\n",
        "  #  creating n grams\n",
        "  n_grams = []\n",
        "  vocab =set()\n",
        "\n",
        "\n",
        "  for sentence in copy_corpus:\n",
        "    for token in sentence:\n",
        "      vocab.add(token)\n",
        "\n",
        "  for i in copy_corpus :\n",
        "    grams = []\n",
        "    for k in range(0,len(i)-order+1):\n",
        "      window = i[k:k+order]    # creating a window of size == order\n",
        "      for j in range(1,len(window)+1):\n",
        "        grams.append(tuple(window[0:j]))  # creating every gram of lenght<= order\n",
        "    n_grams.append(tuple(grams))\n",
        "\n",
        "  return tuple(n_grams),vocab  # return a nested tuple containing all n-grams\n",
        "\n",
        "# An example that how we will create all n grams starting from order 2 on first sentence of the corpus\n",
        "print(\"Sentence:\", processed_corpus[0:1])\n",
        "print()\n",
        "print(\"All bigrams and unigrams of the sentence-\")\n",
        "print(everygram_creator(2, processed_corpus[:1])[0])"
      ]
    },
    {
      "cell_type": "code",
      "execution_count": 41,
      "metadata": {
        "id": "lz7j6--eMwX5"
      },
      "outputs": [],
      "source": [
        "# Creating a dataset for visualizing the trend of average perplexity scores\n",
        "perplexity_data = {\"train_perp_without_LPsmoothing\": [],\n",
        "                   \"train_perp_with_LPsmoothing\": [],\n",
        "                   \"test_perp_with_LPsmoothing\": []}"
      ]
    },
    {
      "cell_type": "markdown",
      "metadata": {
        "id": "_rZi_3nQk2gO"
      },
      "source": [
        "Average perplexity of a Unigram LM without smoothing on the train dataset"
      ]
    },
    {
      "cell_type": "code",
      "execution_count": 42,
      "metadata": {
        "colab": {
          "base_uri": "https://localhost:8080/"
        },
        "id": "x4q6HEmRfGuk",
        "outputId": "cf6f6d7c-6fc1-46bb-e6cd-d422f84e2e2f"
      },
      "outputs": [
        {
          "name": "stdout",
          "output_type": "stream",
          "text": [
            "Average perplexity of a Unigram model on the test dataset: 1.928954909021104e+22\n",
            "Average perplexity of a Unigram model on the train dataset: 15413.773171968316\n"
          ]
        }
      ],
      "source": [
        "class UnigramModel:\n",
        "\n",
        "    def __init__(self):\n",
        "        self.unigram_freq = {}\n",
        "        self.total_tokens = 0\n",
        "\n",
        "    def fit(self, processed_corpus):\n",
        "        for sentence in processed_corpus:\n",
        "            for token in sentence:\n",
        "              self.total_tokens += 1\n",
        "              if token in self.unigram_freq:\n",
        "                  self.unigram_freq[token] += 1\n",
        "              else:\n",
        "                  self.unigram_freq[token] = 1\n",
        "\n",
        "    def unigram_probability(self, token):\n",
        "        if token in self.unigram_freq:\n",
        "            return np.log2(self.unigram_freq[token]) - np.log2(self.total_tokens)\n",
        "        else:\n",
        "            return np.log2(1e-25)\n",
        "\n",
        "    def perplexity(self, processed_test):\n",
        "        perplexity_values = []\n",
        "        for sentence in processed_test:\n",
        "            if len(sentence) > 0:\n",
        "                sentence_probability = 0.0\n",
        "                for token in sentence:\n",
        "                    token_probability = self.unigram_probability(token)\n",
        "                    sentence_probability += token_probability\n",
        "                perplexity_values.append(2 ** (-sentence_probability/len(sentence)))\n",
        "\n",
        "        if len(perplexity_values) > 0:\n",
        "            return sum(perplexity_values) / len(perplexity_values)\n",
        "\n",
        "\n",
        "model = UnigramModel()\n",
        "model.fit(processed_corpus[:])\n",
        "\n",
        "#Perplexity of unsmoothed unigram on test data\n",
        "perplexity = model.perplexity(processed_test[:])\n",
        "print(\"Average perplexity of a Unigram model on the test dataset:\", perplexity)\n",
        "\n",
        "# Perplexity on train\n",
        "perplexity = model.perplexity(processed_corpus[:])\n",
        "print(\"Average perplexity of a Unigram model on the train dataset:\", perplexity)\n",
        "perplexity_data[\"train_perp_without_LPsmoothing\"].append(perplexity)"
      ]
    },
    {
      "cell_type": "markdown",
      "metadata": {
        "id": "z9ZgtAstky00"
      },
      "source": [
        "Unigram with Laplace smoothing"
      ]
    },
    {
      "cell_type": "code",
      "execution_count": 43,
      "metadata": {
        "colab": {
          "base_uri": "https://localhost:8080/"
        },
        "id": "e4Qpm22kkyeE",
        "outputId": "ea4bb578-28f9-4c0d-d635-d2b112890ce7"
      },
      "outputs": [
        {
          "name": "stdout",
          "output_type": "stream",
          "text": [
            "Average perplexity of a Smoothed Unigram model on the test dataset: 18661.150685529396\n"
          ]
        }
      ],
      "source": [
        "class UnigramSmoothedModel:\n",
        "\n",
        "    def __init__(self):\n",
        "      self.unigram_freq = {}\n",
        "      self.total_tokens = 0\n",
        "      self.vocab = set()\n",
        "\n",
        "\n",
        "    def fit(self, processed_corpus):\n",
        "        for sentence in processed_corpus:\n",
        "            for token in sentence:\n",
        "                self.total_tokens += 1\n",
        "                if token in self.unigram_freq:\n",
        "                    self.unigram_freq[token] += 1\n",
        "                else:\n",
        "                    self.unigram_freq[token] = 1\n",
        "                    self.vocab.add(token)\n",
        "\n",
        "    def unigram_probability(self, token):\n",
        "        if token in self.unigram_freq:\n",
        "            return np.log2(self.unigram_freq[token]) - np.log2(self.total_tokens)\n",
        "        else:\n",
        "            return -np.log2(self.total_tokens + len(self.vocab))\n",
        "\n",
        "    def perplexity(self, processed_test):\n",
        "        perplexity_values = []\n",
        "        for sentence in processed_test:\n",
        "            if len(sentence) > 0:\n",
        "                sentence_probability = 0.0\n",
        "                for token in sentence:\n",
        "                    token_probability = self.unigram_probability(token)\n",
        "                    sentence_probability += token_probability\n",
        "                perplexity_values.append(2 ** (-sentence_probability/len(sentence)))\n",
        "\n",
        "        if len(perplexity_values) > 0:\n",
        "            return sum(perplexity_values) / len(perplexity_values)\n",
        "\n",
        "model = UnigramSmoothedModel()\n",
        "model.fit(processed_corpus)\n",
        "\n",
        "perplexity = model.perplexity(processed_test)\n",
        "print(\"Average perplexity of a Smoothed Unigram model on the test dataset:\", perplexity)\n",
        "perplexity_data[\"test_perp_with_LPsmoothing\"].append(perplexity)"
      ]
    },
    {
      "cell_type": "markdown",
      "metadata": {
        "id": "8sAITi3FIDVU"
      },
      "source": [
        "N grams generalized class for bigram, trigram, and quadgram"
      ]
    },
    {
      "cell_type": "code",
      "execution_count": 44,
      "metadata": {
        "id": "ELp1MnXgLq7A"
      },
      "outputs": [],
      "source": [
        "class ngram():\n",
        "\n",
        "  def __init__(self, order):\n",
        "    self.everygram_to_freq = None\n",
        "    self.unigram_count = 0\n",
        "    self.vocab = None\n",
        "    self.order = order\n",
        "\n",
        "  def fit(self, processed_corpus):\n",
        "\n",
        "    train, vocab = everygram_creator(self.order, processed_corpus)  # creating n-grams of length <= order\n",
        "    self.vocab = vocab\n",
        "    everygram = []\n",
        "    for i in train:\n",
        "        everygram.extend(list(i))\n",
        "    self.everygram_to_freq = {}\n",
        "\n",
        "    # mapping every n gram to its frequency\n",
        "    for i in everygram:\n",
        "      if len(i) == 1:\n",
        "        self.unigram_count += 1\n",
        "\n",
        "      if i not in self.everygram_to_freq:\n",
        "        self.everygram_to_freq[i] = 1\n",
        "      else:\n",
        "        self.everygram_to_freq[i] += 1\n",
        "\n",
        "  def log_prob(self, sentence):\n",
        "\n",
        "    test,v = everygram_creator(self.order, [sentence])\n",
        "    grams = []\n",
        "    for i in test:\n",
        "      grams.extend(list(i))\n",
        "    ind = []\n",
        "\n",
        "    for i in range(len(grams)):\n",
        "      if len(grams[i]) < self.order:\n",
        "        ind.append(i)  # storing indices of n grams\n",
        "\n",
        "    # finding log probability to prevent overflow or underflow error\n",
        "    log_prob_sen = 0\n",
        "    for i in range(len(grams)):\n",
        "      if i in ind:\n",
        "        continue\n",
        "      gram = list(grams[i])\n",
        "      prob_gram = 0\n",
        "      if tuple(gram) in self.everygram_to_freq:\n",
        "        if len(gram) >= 2:  # calculating n-gram conditional probability\n",
        "          prob_gram = np.log2(self.everygram_to_freq[tuple(gram)]) - np.log2(self.everygram_to_freq[tuple(gram[0:-1])])\n",
        "        elif len(gram) == 1:  # counting unigram probability for a unigram\n",
        "          prob_gram = np.log2(self.everygram_to_freq[tuple(gram)]) - np.log2(self.unigram_count)\n",
        "\n",
        "      else:\n",
        "        prob_gram = np.log2(1e-25)\n",
        "      log_prob_sen += prob_gram\n",
        "    return log_prob_sen\n",
        "\n",
        "\n",
        "  def perplexity(self, processed_test):\n",
        "    perplexity_values = []\n",
        "    for tokens in processed_test:\n",
        "      n = len(tokens)\n",
        "      if n >=1:\n",
        "        score = self.log_prob(tokens)\n",
        "        score = 2**(-score/n)  # taking antilog to find initial perplexity\n",
        "\n",
        "        perplexity_values.append(score)\n",
        "\n",
        "    perplexity = np.mean(perplexity_values) # taking the average of all perplexities\n",
        "    return perplexity"
      ]
    },
    {
      "cell_type": "markdown",
      "metadata": {
        "id": "SbpJyk8IF7Wq"
      },
      "source": [
        "Average perplexity of a Unigram model on the train dataset(unsmoothed)"
      ]
    },
    {
      "cell_type": "code",
      "execution_count": 45,
      "metadata": {
        "colab": {
          "base_uri": "https://localhost:8080/"
        },
        "id": "tosKH0j7FxYm",
        "outputId": "c59f3dd1-6e10-4385-81a9-c3f7431e0f27"
      },
      "outputs": [
        {
          "name": "stdout",
          "output_type": "stream",
          "text": [
            "Average perplexity of a Unigram model on the train dataset(unsmoothed): 15413.773171965984\n"
          ]
        }
      ],
      "source": [
        "model = ngram(1)\n",
        "model.fit(processed_corpus[:])\n",
        "perplexity = model.perplexity(processed_corpus[:])\n",
        "print(\"Average perplexity of a Unigram model on the train dataset(unsmoothed):\", perplexity)"
      ]
    },
    {
      "cell_type": "markdown",
      "metadata": {
        "id": "oIdEbEyyIV6K"
      },
      "source": [
        "Average perplexity of the train dataset for bigram LM(unsmoothed)"
      ]
    },
    {
      "cell_type": "code",
      "execution_count": 46,
      "metadata": {
        "colab": {
          "base_uri": "https://localhost:8080/"
        },
        "id": "zu0_4kWFIVqz",
        "outputId": "866e57d9-9f6b-4a89-ce1d-a2a4c41282d4"
      },
      "outputs": [
        {
          "name": "stdout",
          "output_type": "stream",
          "text": [
            "Average perplexity of a Bigram model on the train dataset(unsmoothed): 4872.25445044817\n"
          ]
        }
      ],
      "source": [
        "model = ngram(2)\n",
        "model.fit(processed_corpus[:])\n",
        "perplexity = model.perplexity(processed_corpus[:])\n",
        "print(\"Average perplexity of a Bigram model on the train dataset(unsmoothed):\", perplexity)\n",
        "perplexity_data[\"train_perp_without_LPsmoothing\"].append(perplexity)"
      ]
    },
    {
      "cell_type": "markdown",
      "metadata": {
        "id": "2883m2aNIVbe"
      },
      "source": [
        "Average perplexity of a Trigram model on the train dataset(unsmoothed)"
      ]
    },
    {
      "cell_type": "code",
      "execution_count": 47,
      "metadata": {
        "colab": {
          "base_uri": "https://localhost:8080/"
        },
        "id": "mR8v6U4KIVMn",
        "outputId": "1a77d135-e4ec-4291-d74d-695891482dcf"
      },
      "outputs": [
        {
          "name": "stdout",
          "output_type": "stream",
          "text": [
            "Average perplexity of a Trigram model on the train dataset(unsmoothed): 2774.575166751096\n"
          ]
        }
      ],
      "source": [
        "model = ngram(3)\n",
        "model.fit(processed_corpus)\n",
        "perplexity = model.perplexity(processed_corpus)\n",
        "print(\"Average perplexity of a Trigram model on the train dataset(unsmoothed):\", perplexity)\n",
        "perplexity_data[\"train_perp_without_LPsmoothing\"].append(perplexity)"
      ]
    },
    {
      "cell_type": "markdown",
      "metadata": {
        "id": "PCQpB7mhIU5c"
      },
      "source": [
        "Average perplexity of a Quadgram model on the train dataset(unsmoothed)"
      ]
    },
    {
      "cell_type": "code",
      "execution_count": 48,
      "metadata": {
        "colab": {
          "base_uri": "https://localhost:8080/"
        },
        "id": "S3-neDOJIUdy",
        "outputId": "1e96f1a4-7671-4837-b161-d2e71c2ed83c"
      },
      "outputs": [
        {
          "name": "stdout",
          "output_type": "stream",
          "text": [
            "Average perplexity of a Quadgram model on the train dataset(unsmoothed): 2761.0489256891287\n"
          ]
        }
      ],
      "source": [
        "model = ngram(4)\n",
        "model.fit(processed_corpus)\n",
        "perplexity = model.perplexity(processed_corpus)\n",
        "print(\"Average perplexity of a Quadgram model on the train dataset(unsmoothed):\", perplexity)\n",
        "perplexity_data[\"train_perp_without_LPsmoothing\"].append(perplexity)"
      ]
    },
    {
      "cell_type": "markdown",
      "metadata": {
        "id": "XjMU_i3NcWox"
      },
      "source": [
        "Ideally, when we try to get perplexity scores of these unsmoothed (Uni, Bi, Tri, Quad) Language Models on the test dataset, the scores should approach infinity because:\n",
        "- These LMs are fitted on the train dataset. Hence, there are many n-grams in the test dataset that do not occur in traina and hence will have probability = 0 according to the LMs.\n",
        "- This will lead to 0 in denominator of the perplexity formula and perplexity will reach infinity.\n",
        "- To avoid ''' Division by Zero error''', we give a very less probability (of order e<sup>-25</sup>) to all those n-grams that have a probability = 0.\n",
        "- Hence, we can see that the perplexity scores are very high(approaching infinity) in the order of e<sup>30</sup> for all unsmoothed LMs just as expected."
      ]
    },
    {
      "cell_type": "markdown",
      "metadata": {
        "id": "KkppYPfylaVo"
      },
      "source": [
        "Unsmoothed Bigram model on test dataset"
      ]
    },
    {
      "cell_type": "code",
      "execution_count": 49,
      "metadata": {
        "colab": {
          "base_uri": "https://localhost:8080/"
        },
        "id": "PEnSW2r5OxBJ",
        "outputId": "bc32bf42-c43d-4d5e-e87c-a01f6fb49d56"
      },
      "outputs": [
        {
          "name": "stdout",
          "output_type": "stream",
          "text": [
            "2.093332735238416e+47\n"
          ]
        }
      ],
      "source": [
        "model = ngram(2)\n",
        "model.fit(processed_corpus)\n",
        "perplexity = model.perplexity(processed_test)\n",
        "print(perplexity)"
      ]
    },
    {
      "cell_type": "markdown",
      "metadata": {
        "id": "epjkQzqwldZu"
      },
      "source": [
        "Unsmoothed Trigram model on test dataset"
      ]
    },
    {
      "cell_type": "code",
      "execution_count": 50,
      "metadata": {
        "colab": {
          "base_uri": "https://localhost:8080/"
        },
        "id": "RRLj4yyTOw-U",
        "outputId": "cedfc189-396f-4fb1-dcea-0f1ab53b7f13"
      },
      "outputs": [
        {
          "name": "stdout",
          "output_type": "stream",
          "text": [
            "2.0933327352383132e+72\n"
          ]
        }
      ],
      "source": [
        "model = ngram(3)\n",
        "model.fit(processed_corpus)\n",
        "perplexity = model.perplexity(processed_test)\n",
        "print(perplexity)"
      ]
    },
    {
      "cell_type": "markdown",
      "metadata": {
        "id": "abIK-YivlfJq"
      },
      "source": [
        "Unsmoothed Quadgram model on test dataset"
      ]
    },
    {
      "cell_type": "code",
      "execution_count": 51,
      "metadata": {
        "colab": {
          "base_uri": "https://localhost:8080/"
        },
        "id": "sJSbenlPOw5W",
        "outputId": "f5130d3f-9cc1-47a7-f920-cb74260df755"
      },
      "outputs": [
        {
          "name": "stdout",
          "output_type": "stream",
          "text": [
            "2.093332735238301e+97\n"
          ]
        }
      ],
      "source": [
        "model = ngram(4)\n",
        "model.fit(processed_corpus)\n",
        "perplexity = model.perplexity(processed_test)\n",
        "print(perplexity)"
      ]
    },
    {
      "cell_type": "markdown",
      "metadata": {
        "id": "cb8s3w2qC7Go"
      },
      "source": [
        "#Smoothing of N-grams (bigrams, trigrams, quadgram)"
      ]
    },
    {
      "cell_type": "code",
      "execution_count": 52,
      "metadata": {
        "id": "NrvvKwLsDADP"
      },
      "outputs": [],
      "source": [
        "class ngram_smoothed():\n",
        "\n",
        "  def __init__(self, order):\n",
        "    self.everygram_to_freq = None\n",
        "    self.unigram_count = 0\n",
        "    self.vocab = None\n",
        "    self.order = order\n",
        "\n",
        "  def fit(self, processed_corpus):\n",
        "\n",
        "    train, vocab = everygram_creator(self.order, processed_corpus)  # creating n-grams of length <= order\n",
        "    self.vocab = vocab\n",
        "    everygram = []\n",
        "    for i in train:\n",
        "        everygram.extend(list(i))\n",
        "    self.everygram_to_freq = {}\n",
        "\n",
        "    # mapping every n gram to its frequency\n",
        "    for i in everygram:\n",
        "      if len(i) == 1:\n",
        "        self.unigram_count += 1\n",
        "\n",
        "      if i not in self.everygram_to_freq:\n",
        "        self.everygram_to_freq[i] = 1\n",
        "      else:\n",
        "        self.everygram_to_freq[i] += 1\n",
        "\n",
        "  def log_prob(self, sentence):\n",
        "\n",
        "    test,v = everygram_creator(self.order, [sentence])\n",
        "    grams = []\n",
        "    # grams = list(test)\n",
        "    for i in test:\n",
        "      grams.extend(list(i))\n",
        "    ind = []\n",
        "\n",
        "    for i in range(len(grams)):\n",
        "      if len(grams[i]) == self.order:\n",
        "        ind.append(i)  # storing indices of n grams\n",
        "\n",
        "    log_prob_sen = 0\n",
        "    for i in ind:\n",
        "      gram = list(grams[i])\n",
        "      prob_gram = 0\n",
        "      if tuple(gram) in self.everygram_to_freq:\n",
        "\n",
        "        if len(gram) >= 2:  # calculating n-gram conditional probability\n",
        "          prob_gram = np.log2(self.everygram_to_freq[tuple(gram)] + 1) - np.log2(self.everygram_to_freq[tuple(gram[0:-1])] + len(v)-2)\n",
        "\n",
        "        elif len(gram) == 1:  # counting unigram probability for a unigram\n",
        "        # Incrementing numerater by 1 and denominator by V = size of the vocabulary\n",
        "          prob_gram = np.log2(self.everygram_to_freq[tuple(gram)] + 1) - np.log2(self.unigram_count + len(self.vocab))\n",
        "      else:\n",
        "        if (len(gram) >= 2):\n",
        "          if (tuple(gram[0:-1]) in self.everygram_to_freq):\n",
        "            prob_gram = -np.log2(self.everygram_to_freq[tuple(gram[0:-1])] + len(v)-2)\n",
        "          else:\n",
        "            prob_gram = -np.log2(len(v)-2)\n",
        "        else:\n",
        "          prob_gram = -np.log2(self.unigram_count + len(self.vocab))\n",
        "      log_prob_sen += prob_gram\n",
        "    return log_prob_sen\n",
        "\n",
        "\n",
        "  def perplexity(self, processed_test):\n",
        "    perplexity_values = []\n",
        "    for tokens in processed_test:\n",
        "      n = len(tokens)\n",
        "      if n >=1:\n",
        "        score = self.log_prob(tokens)\n",
        "        score = 2**(-score/n)  # taking antilog to find initial perplexity\n",
        "\n",
        "        perplexity_values.append(score)\n",
        "\n",
        "    perplexity = np.mean(perplexity_values) # taking the average of all perplexities\n",
        "    return perplexity"
      ]
    },
    {
      "cell_type": "markdown",
      "metadata": {
        "id": "tWYuKx-XDXo0"
      },
      "source": [
        "With smoothing on bigrams"
      ]
    },
    {
      "cell_type": "code",
      "execution_count": 53,
      "metadata": {
        "colab": {
          "base_uri": "https://localhost:8080/"
        },
        "id": "oUIEoTi_DaIP",
        "outputId": "16af4927-b752-455c-866d-449e75aa13f7"
      },
      "outputs": [
        {
          "name": "stdout",
          "output_type": "stream",
          "text": [
            "Average perplexity of test dataset on Laplace smoothed bigram fitted on train dataset: 5452.083136960607\n"
          ]
        }
      ],
      "source": [
        "model = ngram_smoothed(2)\n",
        "model.fit(processed_corpus)\n",
        "perplexity = model.perplexity(processed_test)\n",
        "print(\"Average perplexity of test dataset on Laplace smoothed bigram fitted on train dataset:\", perplexity)\n",
        "perplexity_data[\"test_perp_with_LPsmoothing\"].append(perplexity)"
      ]
    },
    {
      "cell_type": "markdown",
      "metadata": {
        "id": "URGxh_fGFVt0"
      },
      "source": [
        "Smotthing on trigrams"
      ]
    },
    {
      "cell_type": "code",
      "execution_count": 54,
      "metadata": {
        "colab": {
          "base_uri": "https://localhost:8080/"
        },
        "id": "BFfd2Mq6Dhe6",
        "outputId": "73a6e869-f751-499d-e47c-d16096eea726"
      },
      "outputs": [
        {
          "name": "stdout",
          "output_type": "stream",
          "text": [
            "Average perplexity of test dataset on Laplace smoothed trigram fitted on train dataset: 2866.694136155986\n"
          ]
        }
      ],
      "source": [
        "model = ngram_smoothed(3)\n",
        "model.fit(processed_corpus)\n",
        "perplexity = model.perplexity(processed_test)\n",
        "print(\"Average perplexity of test dataset on Laplace smoothed trigram fitted on train dataset:\",perplexity)\n",
        "perplexity_data[\"test_perp_with_LPsmoothing\"].append(perplexity)"
      ]
    },
    {
      "cell_type": "markdown",
      "metadata": {
        "id": "VuYMGquyFbxX"
      },
      "source": [
        "Smotthing on Quadgrams"
      ]
    },
    {
      "cell_type": "code",
      "execution_count": 55,
      "metadata": {
        "colab": {
          "base_uri": "https://localhost:8080/"
        },
        "id": "UOVBJKfJFde6",
        "outputId": "ce3f1094-ce62-4a0a-bfd7-3ca6bb7b2343"
      },
      "outputs": [
        {
          "name": "stdout",
          "output_type": "stream",
          "text": [
            "Average perplexity of test dataset on Laplace smoothed quadgram fitted on train dataset: 2871.570054237034\n"
          ]
        }
      ],
      "source": [
        "model = ngram_smoothed(4)\n",
        "model.fit(processed_corpus)\n",
        "perplexity = model.perplexity(processed_test)\n",
        "print(\"Average perplexity of test dataset on Laplace smoothed quadgram fitted on train dataset:\",perplexity)\n",
        "perplexity_data[\"test_perp_with_LPsmoothing\"].append(perplexity)"
      ]
    },
    {
      "cell_type": "code",
      "execution_count": 56,
      "metadata": {
        "colab": {
          "base_uri": "https://localhost:8080/"
        },
        "id": "5PahpTr8PKB9",
        "outputId": "d426c19c-ac79-43db-a717-0a163511beb4"
      },
      "outputs": [
        {
          "name": "stdout",
          "output_type": "stream",
          "text": [
            "Average perplexity of test dataset on Laplace smoothed unigram fitted on train dataset: 12018.013390078971\n",
            "---------------------------------------------------------\n",
            "Average perplexity of test dataset on Laplace smoothed bigram fitted on train dataset: 2962.325915340637\n",
            "---------------------------------------------------------\n",
            "Average perplexity of test dataset on Laplace smoothed trigram fitted on train dataset: 1697.087153790053\n",
            "---------------------------------------------------------\n",
            "Average perplexity of test dataset on Laplace smoothed quadgram fitted on train dataset: 1695.1259393328974\n",
            "---------------------------------------------------------\n"
          ]
        }
      ],
      "source": [
        "# Smoothed LMs on train data\n",
        "model = ngram_smoothed(1)\n",
        "model.fit(processed_corpus)\n",
        "perplexity = model.perplexity(processed_corpus)\n",
        "print(\"Average perplexity of test dataset on Laplace smoothed unigram fitted on train dataset:\",perplexity)\n",
        "perplexity_data[\"train_perp_with_LPsmoothing\"].append(perplexity)\n",
        "\n",
        "print(\"---------------------------------------------------------\")\n",
        "\n",
        "model = ngram_smoothed(2)\n",
        "model.fit(processed_corpus)\n",
        "perplexity = model.perplexity(processed_corpus)\n",
        "print(\"Average perplexity of test dataset on Laplace smoothed bigram fitted on train dataset:\",perplexity)\n",
        "perplexity_data[\"train_perp_with_LPsmoothing\"].append(perplexity)\n",
        "\n",
        "print(\"---------------------------------------------------------\")\n",
        "\n",
        "model = ngram_smoothed(3)\n",
        "model.fit(processed_corpus)\n",
        "perplexity = model.perplexity(processed_corpus)\n",
        "print(\"Average perplexity of test dataset on Laplace smoothed trigram fitted on train dataset:\",perplexity)\n",
        "perplexity_data[\"train_perp_with_LPsmoothing\"].append(perplexity)\n",
        "\n",
        "print(\"---------------------------------------------------------\")\n",
        "\n",
        "model = ngram_smoothed(4)\n",
        "model.fit(processed_corpus)\n",
        "perplexity = model.perplexity(processed_corpus)\n",
        "print(\"Average perplexity of test dataset on Laplace smoothed quadgram fitted on train dataset:\",perplexity)\n",
        "perplexity_data[\"train_perp_with_LPsmoothing\"].append(perplexity)\n",
        "\n",
        "print(\"---------------------------------------------------------\")"
      ]
    },
    {
      "cell_type": "markdown",
      "metadata": {
        "id": "0smcwWeCKKfh"
      },
      "source": [
        "Plotting the trend of average perplexity scores on the train dataset on Unsmoothed Language models"
      ]
    },
    {
      "cell_type": "code",
      "execution_count": 57,
      "metadata": {
        "colab": {
          "base_uri": "https://localhost:8080/"
        },
        "id": "N-4uFw1mKVr5",
        "outputId": "597088a1-7540-456c-e914-289470d11f17"
      },
      "outputs": [
        {
          "name": "stdout",
          "output_type": "stream",
          "text": [
            "          train_perp_without_LPsmoothing  train_perp_with_LPsmoothing  \\\n",
            "unigram                     15413.773172                 12018.013390   \n",
            "bigram                       4872.254450                  2962.325915   \n",
            "trigram                      2774.575167                  1697.087154   \n",
            "quadgram                     2761.048926                  1695.125939   \n",
            "\n",
            "          test_perp_with_LPsmoothing  \n",
            "unigram                 18661.150686  \n",
            "bigram                   5452.083137  \n",
            "trigram                  2866.694136  \n",
            "quadgram                 2871.570054  \n"
          ]
        }
      ],
      "source": [
        "perp_df = pd.DataFrame(perplexity_data)\n",
        "perp_df.index = [\"unigram\", \"bigram\", \"trigram\", \"quadgram\"]\n",
        "print(perp_df)"
      ]
    },
    {
      "cell_type": "code",
      "execution_count": 58,
      "metadata": {
        "colab": {
          "base_uri": "https://localhost:8080/",
          "height": 807
        },
        "id": "q4zOCbXjSiXM",
        "outputId": "528f0079-310f-44dc-8759-fe4ec63fbb1d"
      },
      "outputs": [
        {
          "data": {
            "image/png": "[encoded data removed]",
            "text/plain": [
              "<Figure size 800x800 with 2 Axes>"
            ]
          },
          "metadata": {},
          "output_type": "display_data"
        }
      ],
      "source": [
        "import matplotlib.pyplot as plt\n",
        "\n",
        "# Create a figure with two subplots\n",
        "fig, (ax1, ax2) = plt.subplots(2, 1, figsize=(8, 8))\n",
        "\n",
        "# Plot test_perp_with_LPsmoothing on one plot\n",
        "ax1.plot( perp_df.index, perplexity_data[\"test_perp_with_LPsmoothing\"], label=\"Test Perplexity with LP Smoothing\")\n",
        "ax1.set_xlabel(\"N-Gram LMs\")\n",
        "ax1.set_ylabel(\"Average Perplexity\")\n",
        "ax1.legend()\n",
        "\n",
        "# Plot train_perp_without_LPsmoothing and train_perp_with_LPsmoothing on another plot\n",
        "ax2.plot(perp_df.index, perplexity_data[\"train_perp_without_LPsmoothing\"], label=\"Train Perplexity without LP Smoothing\")\n",
        "ax2.plot(perp_df.index, perplexity_data[\"train_perp_with_LPsmoothing\"], label=\"Train Perplexity with LP Smoothing\")\n",
        "ax2.set_xlabel(\"N-Gram LMs\")\n",
        "ax2.set_ylabel(\"Average Perplexity\")\n",
        "ax2.legend()\n",
        "\n",
        "# Adjust layout for better visualization\n",
        "plt.tight_layout()\n",
        "\n",
        "# Show the plots\n",
        "plt.show()\n"
      ]
    }
  ],
  "metadata": {
    "colab": {
      "provenance": []
    },
    "kernelspec": {
      "display_name": "Python 3",
      "name": "python3"
    },
    "language_info": {
      "name": "python"
    }
  },
  "nbformat": 4,
  "nbformat_minor": 0
}
