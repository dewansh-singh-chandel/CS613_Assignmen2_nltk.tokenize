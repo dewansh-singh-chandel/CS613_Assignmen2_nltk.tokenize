{
 "cells": [
  {
   "cell_type": "markdown",
   "metadata": {},
   "source": [
    "## Importing Libraries"
   ]
  },
  {
   "cell_type": "code",
   "execution_count": 45,
   "metadata": {},
   "outputs": [
    {
     "name": "stderr",
     "output_type": "stream",
     "text": [
      "[nltk_data] Downloading package stopwords to /home/Vraj/nltk_data...\n",
      "[nltk_data]   Package stopwords is already up-to-date!\n",
      "[nltk_data] Downloading package punkt to /home/Vraj/nltk_data...\n",
      "[nltk_data]   Package punkt is already up-to-date!\n"
     ]
    },
    {
     "data": {
      "text/plain": [
       "True"
      ]
     },
     "execution_count": 45,
     "metadata": {},
     "output_type": "execute_result"
    }
   ],
   "source": [
    "from nltk.lm import MLE\n",
    "from nltk.tokenize import sent_tokenize\n",
    "from nltk.corpus import stopwords\n",
    "import pandas as pd\n",
    "import math\n",
    "import numpy as np\n",
    "import nltk\n",
    "import re\n",
    "import string\n",
    "nltk.download('stopwords')\n",
    "nltk.download('punkt')"
   ]
  },
  {
   "cell_type": "markdown",
   "metadata": {},
   "source": [
    "## Reading csv file"
   ]
  },
  {
   "cell_type": "code",
   "execution_count": 46,
   "metadata": {},
   "outputs": [
    {
     "name": "stdout",
     "output_type": "stream",
     "text": [
      "   Unnamed: 0  Post_ID Comment_ID  \\\n",
      "0           1  108l3ho    j3vlnat   \n",
      "1           2  10j6oqj    j5j34zb   \n",
      "2           3  10j6oqj    j5jbs3f   \n",
      "3           4  10j6oqj    j5jfczd   \n",
      "4           5  10o9tvi    j6h1ko8   \n",
      "5           6  10o9tvi    j88hrgq   \n",
      "6           7  10o9tvi    jh0junq   \n",
      "7           8  10o9tvi    j94k8o3   \n",
      "8           9  10o9tvi    j94kbno   \n",
      "9          10  10yjhn9    j7yqwxx   \n",
      "\n",
      "                                             Comment Majority_Sentiment  \n",
      "0  Some of them yes but this one i got it from my...            Neutral  \n",
      "1        I keep mine in my phone cover for good luck           Positive  \n",
      "2  Hang on to it! These are rare to come by as th...            Neutral  \n",
      "3  Yeah?! Cool, I got this from my classmate in 2...           Positive  \n",
      "4  Check out the Kaja Throm! Beautiful marketplac...           Positive  \n",
      "5  Out of curiosity what field of work brings you...           Positive  \n",
      "6  Definitely Dechenphu Lhakhang/Goenkhang! Seren...           Positive  \n",
      "7                     thank you! been to Kaja Throm.           Positive  \n",
      "8  I am in sales...technical sales. So trying to ...            Neutral  \n",
      "9  \"shall not get facilities that other citizens ...           Negative  \n"
     ]
    }
   ],
   "source": [
    "file_path = 'raw_reddit_data_filtered.csv'\n",
    "df = pd.read_csv(file_path)\n",
    "\n",
    "print(df.head(10))\n",
    "stopwords = set(stopwords.words(\"english\"))"
   ]
  },
  {
   "cell_type": "markdown",
   "metadata": {},
   "source": [
    "## Sentence Tokenize, train-test split, pre-processing "
   ]
  },
  {
   "cell_type": "code",
   "execution_count": 47,
   "metadata": {},
   "outputs": [],
   "source": [
    "# Define regular expressions for preprocessing\n",
    "regex_pattern_for_links = r'http\\S+|www\\S+|\\@\\w+|\\#'\n",
    "regex_pattern_for_special_chars = r'[^A-Za-z0-9\\s]'\n",
    "\n",
    "# Function to preprocess a single comment\n",
    "def preprocess_comment(comment):\n",
    "    # Remove links and special characters\n",
    "    comment = re.sub(regex_pattern_for_links, '', comment)\n",
    "    comment = re.sub(regex_pattern_for_special_chars, '', comment)\n",
    "    \n",
    "    # Convert to lowercase and split into words\n",
    "    comment = comment.lower().split()\n",
    "\n",
    "    # Remove empty words\n",
    "    comment = [word for word in comment if word not in stopwords]\n",
    "\n",
    "    return comment\n",
    "\n",
    "# Tokenize sentences from the 'Comment' column in your DataFrame\n",
    "sentences = [sent_tokenize(comment) for comment in df['Comment']]\n",
    "\n",
    "# Preprocess and flatten the sentences\n",
    "processed_comments = [preprocess_comment(comment) for sentence in sentences for comment in sentence]\n",
    "\n",
    "# Set a random seed for reproducibility\n",
    "np.random.seed(2)\n",
    "processed_comments = processed_comments\n",
    "\n",
    "# Shuffle the sentences randomly\n",
    "np.random.shuffle(processed_comments)\n",
    "\n",
    "# Calculate the index for the split (80% for training)\n",
    "split_index = int(0.8 * len(processed_comments))\n",
    "\n",
    "# Split the data into training and testing sets\n",
    "# Data for Unigram\n",
    "processed_corpus_uni = list(processed_comments[:split_index])\n",
    "processed_test_uni = list(processed_comments[split_index:])             \n",
    "\n",
    "# Data for eeach N-Gram except Unigram\n",
    "processed_corpus= []\n",
    "for sentence in processed_corpus_uni:\n",
    "    sentence_with_tags = [\"<s>\"] + sentence + [\"</s>\"]\n",
    "    processed_corpus.append(sentence_with_tags)\n",
    "\n",
    "processed_test = []\n",
    "for sentence in processed_test_uni:\n",
    "    sentence_with_tags = [\"<s>\"] + sentence + [\"</s>\"]\n",
    "    processed_test.append(sentence_with_tags)\n"
   ]
  },
  {
   "cell_type": "code",
   "execution_count": 48,
   "metadata": {},
   "outputs": [
    {
     "name": "stdout",
     "output_type": "stream",
     "text": [
      "268411\n",
      "67103\n"
     ]
    }
   ],
   "source": [
    "print(len(processed_corpus_uni))\n",
    "print(len(processed_test_uni))"
   ]
  },
  {
   "cell_type": "markdown",
   "metadata": {},
   "source": [
    "## Without Smoothing"
   ]
  },
  {
   "cell_type": "markdown",
   "metadata": {},
   "source": [
    "### Unigram"
   ]
  },
  {
   "cell_type": "code",
   "execution_count": 49,
   "metadata": {},
   "outputs": [],
   "source": [
    "class Unigram:\n",
    "\n",
    "    def __init__(self):\n",
    "        self.unigram_freq = {}\n",
    "        self.total_tokens = 0\n",
    "\n",
    "    def fit(self, processed_corpus):\n",
    "        for sentence in processed_corpus:\n",
    "            for token in sentence:\n",
    "                self.total_tokens += 1\n",
    "                if token in self.unigram_freq:\n",
    "                    self.unigram_freq[token] += 1\n",
    "                else:\n",
    "                    self.unigram_freq[token] = 1\n",
    "\n",
    "    def unigram_probability(self, token):\n",
    "        if token in self.unigram_freq:\n",
    "            return self.unigram_freq[token] / self.total_tokens\n",
    "        else:\n",
    "            return 0\n",
    "\n",
    "    def perplexity(self, processed_test):\n",
    "        perplexity_values = []\n",
    "        for sentence in processed_test:\n",
    "            if len(sentence) > 0:\n",
    "                sentence_probability = 1.0\n",
    "                for token in sentence:\n",
    "                    token_probability = self.unigram_probability(token)\n",
    "                    sentence_probability *= token_probability\n",
    "                if sentence_probability != 0:\n",
    "                    perplexity_values.append(\n",
    "                        (math.pow(sentence_probability, -1 / len(sentence))))\n",
    "                else:\n",
    "                    # To take care of the very small values\n",
    "                    perplexity_values.append(\n",
    "                        (math.pow(1e-25, -1 / len(sentence))))\n",
    "\n",
    "        return sum(perplexity_values) / len(perplexity_values)"
   ]
  },
  {
   "cell_type": "code",
   "execution_count": 50,
   "metadata": {},
   "outputs": [
    {
     "name": "stdout",
     "output_type": "stream",
     "text": [
      "Perplexity: 17386.098568893845\n"
     ]
    }
   ],
   "source": [
    "model = Unigram()\n",
    "model.fit(processed_corpus_uni)\n",
    "\n",
    "perplexity = model.perplexity(processed_corpus_uni)\n",
    "print(\"Perplexity:\", perplexity)"
   ]
  },
  {
   "cell_type": "markdown",
   "metadata": {},
   "source": [
    "### Bigram"
   ]
  },
  {
   "cell_type": "code",
   "execution_count": 51,
   "metadata": {},
   "outputs": [],
   "source": [
    "class Bigram:\n",
    "\n",
    "    def __init__(self):\n",
    "        self.bigram_freq = {}\n",
    "        self.unigram_freq = {}\n",
    "\n",
    "    def fit(self, processed_corpus):\n",
    "        for sentence in processed_corpus:\n",
    "            prev_token = None\n",
    "            for token in sentence:\n",
    "                if token in self.unigram_freq:\n",
    "                    self.unigram_freq[token] += 1\n",
    "                else:\n",
    "                    self.unigram_freq[token] = 1\n",
    "\n",
    "                if prev_token is not None:\n",
    "                    if (prev_token, token) in self.bigram_freq:\n",
    "                        self.bigram_freq[(prev_token, token)] += 1\n",
    "                    else:\n",
    "                        self.bigram_freq[(prev_token, token)] = 1\n",
    "                prev_token = token\n",
    "\n",
    "    def bigram_probability(self, prev_token, token):\n",
    "        if (prev_token, token) in self.bigram_freq:\n",
    "            return self.bigram_freq[(prev_token, token)] / self.unigram_freq[prev_token]\n",
    "        else:\n",
    "            return 0\n",
    "\n",
    "    def perplexity(self, processed_test):\n",
    "        perplexity_values = []\n",
    "        for sentence in processed_test:\n",
    "            if len(sentence) > 1:\n",
    "                sentence_probability = 1.0\n",
    "                prev_token = sentence[0]\n",
    "                for token in sentence[1:]:\n",
    "                    token_probability = self.bigram_probability(\n",
    "                        prev_token, token)\n",
    "                    sentence_probability *= token_probability\n",
    "                    prev_token = token\n",
    "                if sentence_probability != 0:\n",
    "                    perplexity_values.append(\n",
    "                        math.pow(sentence_probability, -1 / len(sentence)))\n",
    "                else:\n",
    "                    # To take care of very small values\n",
    "                    perplexity_values.append(\n",
    "                        math.pow(1e-25, -1 / len(sentence)))\n",
    "\n",
    "        return sum(perplexity_values) / len(perplexity_values)"
   ]
  },
  {
   "cell_type": "code",
   "execution_count": 52,
   "metadata": {},
   "outputs": [
    {
     "name": "stdout",
     "output_type": "stream",
     "text": [
      "Perplexity: 903365.5932980984\n"
     ]
    }
   ],
   "source": [
    "model = Bigram()\n",
    "model.fit(processed_corpus)\n",
    "\n",
    "perplexity = model.perplexity(processed_test)\n",
    "print(\"Perplexity:\", perplexity)"
   ]
  },
  {
   "cell_type": "markdown",
   "metadata": {},
   "source": [
    "### Trigram"
   ]
  },
  {
   "cell_type": "code",
   "execution_count": 53,
   "metadata": {},
   "outputs": [],
   "source": [
    "class Trigram:\n",
    "\n",
    "    def __init__(self):\n",
    "        self.trigram_freq = {}\n",
    "        self.bigram_freq = {}\n",
    "\n",
    "    def fit(self, processed_corpus):\n",
    "        for sentence in processed_corpus:\n",
    "            prev_token1 = None\n",
    "            prev_token2 = None\n",
    "            for token in sentence:\n",
    "                if prev_token1 is not None and prev_token2 is not None:\n",
    "                    trigram = (prev_token1, prev_token2, token)\n",
    "                    if trigram in self.trigram_freq:\n",
    "                        self.trigram_freq[trigram] += 1\n",
    "                    else:\n",
    "                        self.trigram_freq[trigram] = 1\n",
    "\n",
    "                    bigram = (prev_token1, prev_token2)\n",
    "                    if bigram in self.bigram_freq:\n",
    "                        self.bigram_freq[bigram] += 1\n",
    "                    else:\n",
    "                        self.bigram_freq[bigram] = 1\n",
    "\n",
    "                prev_token1 = prev_token2\n",
    "                prev_token2 = token\n",
    "\n",
    "    def trigram_probability(self, prev_token1, prev_token2, token):\n",
    "        trigram = (prev_token1, prev_token2, token)\n",
    "        if trigram in self.trigram_freq:\n",
    "            return self.trigram_freq[trigram] / self.bigram_freq[(prev_token1, prev_token2)]\n",
    "        else:\n",
    "            return 0\n",
    "\n",
    "    def perplexity(self, processed_test):\n",
    "        perplexity_values = []\n",
    "        for sentence in processed_test:\n",
    "            if len(sentence) > 2:\n",
    "                sentence_probability = 1.0\n",
    "                prev_token1 = sentence[0]\n",
    "                prev_token2 = sentence[1]\n",
    "                for token in sentence[2:]:\n",
    "                    token_probability = self.trigram_probability(\n",
    "                        prev_token1, prev_token2, token)\n",
    "                    sentence_probability *= token_probability\n",
    "                    prev_token1 = prev_token2\n",
    "                    prev_token2 = token\n",
    "                if sentence_probability != 0:\n",
    "                    perplexity_values.append(\n",
    "                        math.pow(sentence_probability, -1 / len(sentence)))\n",
    "                else:\n",
    "                    # To take care of very small values\n",
    "                    perplexity_values.append(\n",
    "                        math.pow(1e-25, -1 / len(sentence)))\n",
    "\n",
    "        return sum(perplexity_values) / len(perplexity_values)"
   ]
  },
  {
   "cell_type": "code",
   "execution_count": 54,
   "metadata": {},
   "outputs": [
    {
     "name": "stdout",
     "output_type": "stream",
     "text": [
      "Perplexity: 2064308.7291279095\n"
     ]
    }
   ],
   "source": [
    "model = Trigram()\n",
    "model.fit(processed_corpus)\n",
    "\n",
    "perplexity = model.perplexity(processed_test)\n",
    "print(\"Perplexity:\", perplexity)"
   ]
  },
  {
   "cell_type": "markdown",
   "metadata": {},
   "source": [
    "### Quadgram"
   ]
  },
  {
   "cell_type": "code",
   "execution_count": 55,
   "metadata": {},
   "outputs": [],
   "source": [
    "class Quadgram:\n",
    "\n",
    "    def __init__(self):\n",
    "        self.quadgram_freq = {}\n",
    "        self.trigram_freq = {}\n",
    "\n",
    "    def fit(self, processed_corpus):\n",
    "        for sentence in processed_corpus:\n",
    "            prev_token1 = None\n",
    "            prev_token2 = None\n",
    "            prev_token3 = None\n",
    "            for token in sentence:\n",
    "                if prev_token1 is not None and prev_token2 is not None and prev_token3 is not None:\n",
    "                    quadgram = (prev_token1, prev_token2, prev_token3, token)\n",
    "                    if quadgram in self.quadgram_freq:\n",
    "                        self.quadgram_freq[quadgram] += 1\n",
    "                    else:\n",
    "                        self.quadgram_freq[quadgram] = 1\n",
    "\n",
    "                    trigram = (prev_token1, prev_token2, prev_token3)\n",
    "                    if trigram in self.trigram_freq:\n",
    "                        self.trigram_freq[trigram] += 1\n",
    "                    else:\n",
    "                        self.trigram_freq[trigram] = 1\n",
    "\n",
    "                prev_token1 = prev_token2\n",
    "                prev_token2 = prev_token3\n",
    "                prev_token3 = token\n",
    "\n",
    "    def quadgram_probability(self, prev_token1, prev_token2, prev_token3, token):\n",
    "        quadgram = (prev_token1, prev_token2, prev_token3, token)\n",
    "        if quadgram in self.quadgram_freq:\n",
    "            return self.quadgram_freq[quadgram] / self.trigram_freq[(prev_token1, prev_token2, prev_token3)]\n",
    "        else:\n",
    "            return 0\n",
    "\n",
    "    def perplexity(self, processed_test):\n",
    "        perplexity_values = []\n",
    "        for sentence in processed_test:\n",
    "            if len(sentence) > 3:\n",
    "                sentence_probability = 1.0\n",
    "                prev_token1 = sentence[0]\n",
    "                prev_token2 = sentence[1]\n",
    "                prev_token3 = sentence[2]\n",
    "                for token in sentence[3:]:\n",
    "                    token_probability = self.quadgram_probability(\n",
    "                        prev_token1, prev_token2, prev_token3, token)\n",
    "                    sentence_probability *= token_probability\n",
    "                    prev_token1 = prev_token2\n",
    "                    prev_token2 = prev_token3\n",
    "                    prev_token3 = token\n",
    "                if sentence_probability != 0:\n",
    "                    perplexity_values.append(\n",
    "                        math.pow(sentence_probability, -1 / len(sentence)))\n",
    "                else:\n",
    "                    # To take care of very small values\n",
    "                    perplexity_values.append(\n",
    "                        math.pow(1e-25, -1 / len(sentence)))\n",
    "\n",
    "        return sum(perplexity_values) / len(perplexity_values)"
   ]
  },
  {
   "cell_type": "code",
   "execution_count": 56,
   "metadata": {},
   "outputs": [
    {
     "name": "stdout",
     "output_type": "stream",
     "text": [
      "Perplexity: 117377.71842166435\n"
     ]
    }
   ],
   "source": [
    "model = Quadgram()\n",
    "model.fit(processed_corpus)\n",
    "\n",
    "perplexity = model.perplexity(processed_test)\n",
    "print(\"Perplexity:\", perplexity)"
   ]
  },
  {
   "cell_type": "markdown",
   "metadata": {},
   "source": [
    "### Plots"
   ]
  },
  {
   "cell_type": "code",
   "execution_count": 57,
   "metadata": {},
   "outputs": [
    {
     "name": "stdout",
     "output_type": "stream",
     "text": [
      "Unigram Perplexity: 1.5123508654019235e+22\n",
      "Bigram Perplexity: 903365.5932980984\n",
      "Trigram Perplexity: 2064308.7291279095\n",
      "Quadgram Perplexity: 117377.71842166435\n"
     ]
    },
    {
     "data": {
      "image/png": "[encoded data removed]",
      "text/plain": [
       "<Figure size 1000x600 with 1 Axes>"
      ]
     },
     "metadata": {},
     "output_type": "display_data"
    }
   ],
   "source": [
    "import matplotlib.pyplot as plt\n",
    "\n",
    "n_gram_models = [Unigram(), Bigram(), Trigram(), Quadgram()]\n",
    "\n",
    "corpus = [processed_corpus_uni, processed_corpus, processed_corpus, processed_corpus]\n",
    "test_data = [processed_test_uni, processed_test, processed_test, processed_test]\n",
    "\n",
    "perplexities = []\n",
    "\n",
    "n_gram_labels = [\"Unigram\", \"Bigram\", \"Trigram\", \"Quadgram\"]\n",
    "\n",
    "for i, model in enumerate(n_gram_models):\n",
    "    model.fit(corpus[i])\n",
    "    perplexity = model.perplexity(test_data[i])\n",
    "    perplexities.append(perplexity)\n",
    "    print(f\"{n_gram_labels[i]} Perplexity: {perplexity}\")\n",
    "\n",
    "\n",
    "plt.figure(figsize=(10, 6))\n",
    "plt.plot(n_gram_labels, perplexities, marker='o', linestyle='-')\n",
    "plt.xlabel(\"N-gram Model\")\n",
    "plt.ylabel(\"Perplexity\")\n",
    "plt.title(\"Perplexity of N-gram Language Models\")\n",
    "plt.grid(True)\n",
    "plt.show()\n"
   ]
  },
  {
   "cell_type": "markdown",
   "metadata": {},
   "source": [
    "## With Laplace Smoothing"
   ]
  },
  {
   "cell_type": "markdown",
   "metadata": {},
   "source": [
    "### Unigram"
   ]
  },
  {
   "cell_type": "code",
   "execution_count": 58,
   "metadata": {},
   "outputs": [],
   "source": [
    "class Unigram_Laplace:\n",
    "\n",
    "    def __init__(self):\n",
    "        self.unigram_freq = {}\n",
    "        self.total_tokens = 0\n",
    "        self.V = 0\n",
    "\n",
    "    def fit(self, processed_corpus):\n",
    "        for sentence in processed_corpus:\n",
    "            for token in sentence:\n",
    "                self.total_tokens += 1\n",
    "                if token in self.unigram_freq:\n",
    "                    self.unigram_freq[token] += 1\n",
    "                else:\n",
    "                    self.unigram_freq[token] = 1\n",
    "                    self.V += 1\n",
    "\n",
    "    def unigram_probability(self, token):\n",
    "        if token in self.unigram_freq:\n",
    "            return (self.unigram_freq[token] + 1) / (self.total_tokens + self.V)\n",
    "        else:\n",
    "            return (1) / (self.total_tokens + self.V)\n",
    "\n",
    "    def perplexity(self, processed_test):\n",
    "        perplexity_values = []\n",
    "        for sentence in processed_test:\n",
    "            if len(sentence) > 0:\n",
    "                sentence_probability = 1.0\n",
    "                for token in sentence:\n",
    "                    token_probability = self.unigram_probability(token)\n",
    "                    sentence_probability *= token_probability\n",
    "                if sentence_probability != 0:\n",
    "                    perplexity_values.append(\n",
    "                        (math.pow(sentence_probability, -1 / len(sentence))))\n",
    "\n",
    "        return sum(perplexity_values) / len(perplexity_values)"
   ]
  },
  {
   "cell_type": "code",
   "execution_count": 59,
   "metadata": {},
   "outputs": [
    {
     "name": "stdout",
     "output_type": "stream",
     "text": [
      "Perplexity: 17846.820271001903\n"
     ]
    }
   ],
   "source": [
    "model = Unigram_Laplace()\n",
    "model.fit(processed_corpus_uni)\n",
    "\n",
    "perplexity = model.perplexity(processed_test_uni)\n",
    "print(\"Perplexity:\", perplexity)"
   ]
  },
  {
   "cell_type": "markdown",
   "metadata": {},
   "source": [
    "### Bigram"
   ]
  },
  {
   "cell_type": "code",
   "execution_count": 60,
   "metadata": {},
   "outputs": [],
   "source": [
    "class Bigram_Laplace:\n",
    "\n",
    "    def __init__(self):\n",
    "        self.bigram_freq = {}\n",
    "        self.unigram_freq = {}\n",
    "        self.V = 0\n",
    "\n",
    "    def fit(self, processed_corpus):\n",
    "        for sentence in processed_corpus:\n",
    "            prev_token = None\n",
    "            for token in sentence:\n",
    "                if token in self.unigram_freq:\n",
    "                    self.unigram_freq[token] += 1\n",
    "                else:\n",
    "                    self.unigram_freq[token] = 1\n",
    "                    self.V += 1\n",
    "\n",
    "                if prev_token is not None:\n",
    "                    if (prev_token, token) in self.bigram_freq:\n",
    "                        self.bigram_freq[(prev_token, token)] += 1\n",
    "                    else:\n",
    "                        self.bigram_freq[(prev_token, token)] = 1\n",
    "                prev_token = token\n",
    "\n",
    "    def bigram_probability(self, prev_token, token):\n",
    "        if (prev_token, token) in self.bigram_freq:\n",
    "            return (self.bigram_freq[(prev_token, token)] + 1) / (self.unigram_freq[prev_token] + self.V)\n",
    "        else:\n",
    "            if prev_token in self.unigram_freq:\n",
    "                return (1) / (self.unigram_freq[prev_token] + self.V)\n",
    "            else:\n",
    "                return (1) / (self.V)\n",
    "\n",
    "    def perplexity(self, processed_test):\n",
    "        perplexity_values = []\n",
    "        for sentence in processed_test:\n",
    "            if len(sentence) > 1:\n",
    "                sentence_probability = 1.0\n",
    "                prev_token = sentence[0]\n",
    "                for token in sentence[1:]:\n",
    "                    token_probability = self.bigram_probability(\n",
    "                        prev_token, token)\n",
    "                    sentence_probability *= token_probability\n",
    "                    prev_token = token\n",
    "                if sentence_probability != 0:\n",
    "                    perplexity_values.append(\n",
    "                        math.pow(sentence_probability, -1 / len(sentence)))\n",
    "\n",
    "        return sum(perplexity_values) / len(perplexity_values)"
   ]
  },
  {
   "cell_type": "code",
   "execution_count": 61,
   "metadata": {},
   "outputs": [
    {
     "name": "stdout",
     "output_type": "stream",
     "text": [
      "Perplexity: 5721.069367024385\n"
     ]
    }
   ],
   "source": [
    "model = Bigram_Laplace()\n",
    "model.fit(processed_corpus)\n",
    "\n",
    "perplexity = model.perplexity(processed_test)\n",
    "print(\"Perplexity:\", perplexity)"
   ]
  },
  {
   "cell_type": "markdown",
   "metadata": {},
   "source": [
    "### Trigram"
   ]
  },
  {
   "cell_type": "code",
   "execution_count": 62,
   "metadata": {},
   "outputs": [],
   "source": [
    "class Trigram_Laplace:\n",
    "\n",
    "    def __init__(self):\n",
    "        self.trigram_freq = {}\n",
    "        self.bigram_freq = {}\n",
    "        self.unigram_freq = {}\n",
    "        self.V = 0\n",
    "\n",
    "    def fit(self, processed_corpus):\n",
    "        for sentence in processed_corpus:\n",
    "            prev_token1, prev_token2 = None, None\n",
    "            for token in sentence:\n",
    "                if token in self.unigram_freq:\n",
    "                    self.unigram_freq[token] += 1\n",
    "                else:\n",
    "                    self.unigram_freq[token] = 1\n",
    "                    self.V += 1\n",
    "\n",
    "                if prev_token1 is not None and prev_token2 is not None:\n",
    "                    trigram = (prev_token1, prev_token2, token)\n",
    "                    if trigram in self.trigram_freq:\n",
    "                        self.trigram_freq[trigram] += 1\n",
    "                    else:\n",
    "                        self.trigram_freq[trigram] = 1\n",
    "\n",
    "                if prev_token2 is not None:\n",
    "                    bigram = (prev_token2, token)\n",
    "                    if bigram in self.bigram_freq:\n",
    "                        self.bigram_freq[bigram] += 1\n",
    "                    else:\n",
    "                        self.bigram_freq[bigram] = 1\n",
    "\n",
    "                prev_token1, prev_token2 = prev_token2, token\n",
    "\n",
    "    def trigram_probability(self, prev_token1, prev_token2, token):\n",
    "        trigram = (prev_token1, prev_token2, token)\n",
    "        if trigram in self.trigram_freq:\n",
    "            return (self.trigram_freq[trigram] + 1) / (self.bigram_freq.get((prev_token1, prev_token2), 0) + self.V)\n",
    "        else:\n",
    "            if (prev_token1, prev_token2) in self.bigram_freq:\n",
    "                return (1) / (self.bigram_freq[(prev_token1, prev_token2)] + self.V)\n",
    "            else:\n",
    "                return (1) / (self.V)\n",
    "\n",
    "    def perplexity(self, processed_test):\n",
    "        perplexity_values = []\n",
    "        for sentence in processed_test:\n",
    "            if len(sentence) > 2:\n",
    "                sentence_probability = 1.0\n",
    "                prev_token1, prev_token2 = sentence[0], sentence[1]\n",
    "                for token in sentence[2:]:\n",
    "                    token_probability = self.trigram_probability(\n",
    "                        prev_token1, prev_token2, token)\n",
    "                    sentence_probability *= token_probability\n",
    "                    prev_token1, prev_token2 = prev_token2, token\n",
    "                if sentence_probability != 0:\n",
    "                    perplexity_values.append(\n",
    "                        math.pow(sentence_probability, -1 / len(sentence)))\n",
    "\n",
    "        return sum(perplexity_values) / len(perplexity_values)"
   ]
  },
  {
   "cell_type": "code",
   "execution_count": 63,
   "metadata": {},
   "outputs": [
    {
     "name": "stdout",
     "output_type": "stream",
     "text": [
      "Perplexity: 6025.705074666868\n"
     ]
    }
   ],
   "source": [
    "model = Trigram_Laplace()\n",
    "model.fit(processed_corpus)\n",
    "\n",
    "perplexity = model.perplexity(processed_test)\n",
    "print(\"Perplexity:\", perplexity)"
   ]
  },
  {
   "cell_type": "markdown",
   "metadata": {},
   "source": [
    "### Quadgram"
   ]
  },
  {
   "cell_type": "code",
   "execution_count": 64,
   "metadata": {},
   "outputs": [],
   "source": [
    "class Quadgram_Laplace:\n",
    "\n",
    "    def __init__(self):\n",
    "        self.quadgram_freq = {}\n",
    "        self.trigram_freq = {}\n",
    "        self.bigram_freq = {}\n",
    "        self.unigram_freq = {}\n",
    "        self.V = 0\n",
    "\n",
    "    def fit(self, processed_corpus):\n",
    "        for sentence in processed_corpus:\n",
    "            prev_token1, prev_token2, prev_token3 = None, None, None\n",
    "            for token in sentence:\n",
    "                if token in self.unigram_freq:\n",
    "                    self.unigram_freq[token] += 1\n",
    "                else:\n",
    "                    self.unigram_freq[token] = 1\n",
    "                    self.V += 1\n",
    "\n",
    "                if prev_token1 is not None and prev_token2 is not None and prev_token3 is not None:\n",
    "                    quadgram = (prev_token1, prev_token2, prev_token3, token)\n",
    "                    if quadgram in self.quadgram_freq:\n",
    "                        self.quadgram_freq[quadgram] += 1\n",
    "                    else:\n",
    "                        self.quadgram_freq[quadgram] = 1\n",
    "\n",
    "                if prev_token2 is not None and prev_token3 is not None:\n",
    "                    trigram = (prev_token2, prev_token3, token)\n",
    "                    if trigram in self.trigram_freq:\n",
    "                        self.trigram_freq[trigram] += 1\n",
    "                    else:\n",
    "                        self.trigram_freq[trigram] = 1\n",
    "\n",
    "                if prev_token3 is not None:\n",
    "                    bigram = (prev_token3, token)\n",
    "                    if bigram in self.bigram_freq:\n",
    "                        self.bigram_freq[bigram] += 1\n",
    "                    else:\n",
    "                        self.bigram_freq[bigram] = 1\n",
    "\n",
    "                prev_token1, prev_token2, prev_token3 = prev_token2, prev_token3, token\n",
    "\n",
    "    def quadgram_probability(self, prev_token1, prev_token2, prev_token3, token):\n",
    "        quadgram = (prev_token1, prev_token2, prev_token3, token)\n",
    "        if quadgram in self.quadgram_freq:\n",
    "            return (self.quadgram_freq[quadgram] + 1) / (self.trigram_freq.get((prev_token1, prev_token2, prev_token3), 0) + self.V)\n",
    "        else:\n",
    "            if (prev_token1, prev_token2, prev_token3) in self.trigram_freq:\n",
    "                return (1) / (self.trigram_freq[(prev_token1, prev_token2, prev_token3)] + self.V)\n",
    "            else:\n",
    "                return (1) / (self.V)\n",
    "\n",
    "    def perplexity(self, processed_test):\n",
    "        perplexity_values = []\n",
    "        for sentence in processed_test:\n",
    "            if len(sentence) > 3:\n",
    "                sentence_probability = 1.0\n",
    "                prev_token1, prev_token2, prev_token3 = sentence[0], sentence[1], sentence[2]\n",
    "                for token in sentence[3:]:\n",
    "                    token_probability = self.quadgram_probability(\n",
    "                        prev_token1, prev_token2, prev_token3, token)\n",
    "                    sentence_probability *= token_probability\n",
    "                    prev_token1, prev_token2, prev_token3 = prev_token2, prev_token3, token\n",
    "                if sentence_probability != 0:\n",
    "                    perplexity_values.append(\n",
    "                        math.pow(sentence_probability, -1 / len(sentence)))\n",
    "\n",
    "        return sum(perplexity_values) / len(perplexity_values)"
   ]
  },
  {
   "cell_type": "code",
   "execution_count": 65,
   "metadata": {},
   "outputs": [
    {
     "name": "stdout",
     "output_type": "stream",
     "text": [
      "Perplexity: 3223.4886425777263\n"
     ]
    }
   ],
   "source": [
    "model = Quadgram_Laplace()\n",
    "model.fit(processed_corpus)\n",
    "\n",
    "perplexity = model.perplexity(processed_test)\n",
    "print(\"Perplexity:\", perplexity)"
   ]
  },
  {
   "cell_type": "markdown",
   "metadata": {},
   "source": [
    "### Plots"
   ]
  },
  {
   "cell_type": "code",
   "execution_count": 66,
   "metadata": {},
   "outputs": [
    {
     "name": "stdout",
     "output_type": "stream",
     "text": [
      "Unigram Perplexity: 17846.820271001903\n",
      "Bigram Perplexity: 5721.069367024385\n",
      "Trigram Perplexity: 6025.705074666868\n",
      "Quadgram Perplexity: 3223.4886425777263\n"
     ]
    },
    {
     "data": {
      "image/png": "[encoded data removed]",
      "text/plain": [
       "<Figure size 1000x600 with 1 Axes>"
      ]
     },
     "metadata": {},
     "output_type": "display_data"
    }
   ],
   "source": [
    "import matplotlib.pyplot as plt\n",
    "\n",
    "n_gram_models = [Unigram_Laplace(), Bigram_Laplace(), Trigram_Laplace(), Quadgram_Laplace()]\n",
    "\n",
    "corpus = [processed_corpus_uni, processed_corpus, processed_corpus, processed_corpus]\n",
    "test_data = [processed_test_uni, processed_test, processed_test, processed_test]\n",
    "\n",
    "perplexities = []\n",
    "\n",
    "n_gram_labels = [\"Unigram\", \"Bigram\", \"Trigram\", \"Quadgram\"]\n",
    "\n",
    "for i, model in enumerate(n_gram_models):\n",
    "    model.fit(corpus[i])\n",
    "    perplexity = model.perplexity(test_data[i])\n",
    "    perplexities.append(perplexity)\n",
    "    print(f\"{n_gram_labels[i]} Perplexity: {perplexity}\")\n",
    "\n",
    "\n",
    "plt.figure(figsize=(10, 6))\n",
    "plt.plot(n_gram_labels, perplexities, marker='o', linestyle='-')\n",
    "plt.xlabel(\"N-gram Model\")\n",
    "plt.ylabel(\"Perplexity\")\n",
    "plt.title(\"Perplexity of N-gram Language Models\")\n",
    "plt.grid(True)\n",
    "plt.show()\n"
   ]
  },
  {
   "cell_type": "markdown",
   "metadata": {},
   "source": [
    "## With Additive Smoothing"
   ]
  },
  {
   "cell_type": "markdown",
   "metadata": {},
   "source": [
    "### Unigram"
   ]
  },
  {
   "cell_type": "code",
   "execution_count": 67,
   "metadata": {},
   "outputs": [],
   "source": [
    "class Unigram_Additive:\n",
    "\n",
    "    def __init__(self):\n",
    "        self.unigram_freq = {}\n",
    "        self.total_tokens = 0\n",
    "        self.V = 0\n",
    "        self.alpha=0.5\n",
    "\n",
    "    def fit(self, processed_corpus):\n",
    "        for sentence in processed_corpus:\n",
    "            for token in sentence:\n",
    "                self.total_tokens += 1\n",
    "                if token in self.unigram_freq:\n",
    "                    self.unigram_freq[token] += 1\n",
    "                else:\n",
    "                    self.unigram_freq[token] = 1\n",
    "                    self.V += 1\n",
    "\n",
    "    def unigram_probability(self, token):\n",
    "        if token in self.unigram_freq:\n",
    "            return (self.unigram_freq[token] + 1*self.alpha) / (self.total_tokens + self.V*self.alpha)\n",
    "        else:\n",
    "            return (1*self.alpha) / (self.total_tokens + self.V*self.alpha)\n",
    "\n",
    "    def perplexity(self, processed_test):\n",
    "        perplexity_values = []\n",
    "        for sentence in processed_test:\n",
    "            if len(sentence) > 0:\n",
    "                sentence_probability = 1.0\n",
    "                for token in sentence:\n",
    "                    token_probability = self.unigram_probability(token)\n",
    "                    sentence_probability *= token_probability\n",
    "                if sentence_probability != 0:\n",
    "                    perplexity_values.append(\n",
    "                        (math.pow(sentence_probability, -1 / len(sentence))))\n",
    "\n",
    "        return sum(perplexity_values) / len(perplexity_values)"
   ]
  },
  {
   "cell_type": "code",
   "execution_count": 68,
   "metadata": {},
   "outputs": [
    {
     "name": "stdout",
     "output_type": "stream",
     "text": [
      "Perplexity: 23216.1197684928\n"
     ]
    }
   ],
   "source": [
    "model = Unigram_Additive()\n",
    "model.fit(processed_corpus_uni)\n",
    "\n",
    "perplexity = model.perplexity(processed_test_uni)\n",
    "print(\"Perplexity:\", perplexity)"
   ]
  },
  {
   "cell_type": "markdown",
   "metadata": {},
   "source": [
    "### Bigram"
   ]
  },
  {
   "cell_type": "code",
   "execution_count": 69,
   "metadata": {},
   "outputs": [],
   "source": [
    "class Bigram_Additive:\n",
    "\n",
    "    def __init__(self):\n",
    "        self.bigram_freq = {}\n",
    "        self.unigram_freq = {}\n",
    "        self.V = 0\n",
    "        self.alpha=0.5\n",
    "\n",
    "    def fit(self, processed_corpus):\n",
    "        for sentence in processed_corpus:\n",
    "            prev_token = None\n",
    "            for token in sentence:\n",
    "                if token in self.unigram_freq:\n",
    "                    self.unigram_freq[token] += 1\n",
    "                else:\n",
    "                    self.unigram_freq[token] = 1\n",
    "                    self.V += 1\n",
    "\n",
    "                if prev_token is not None:\n",
    "                    if (prev_token, token) in self.bigram_freq:\n",
    "                        self.bigram_freq[(prev_token, token)] += 1\n",
    "                    else:\n",
    "                        self.bigram_freq[(prev_token, token)] = 1\n",
    "                prev_token = token\n",
    "\n",
    "    def bigram_probability(self, prev_token, token):\n",
    "        if (prev_token, token) in self.bigram_freq:\n",
    "            return (self.bigram_freq[(prev_token, token)] + 1*self.alpha) / (self.unigram_freq[prev_token] + self.V*self.alpha)\n",
    "        else:\n",
    "            if prev_token in self.unigram_freq:\n",
    "                return (1*self.alpha) / (self.unigram_freq[prev_token] + self.V*self.alpha)\n",
    "            else:\n",
    "                return (1*self.alpha) / (self.V*self.alpha)\n",
    "\n",
    "    def perplexity(self, processed_test):\n",
    "        perplexity_values = []\n",
    "        for sentence in processed_test:\n",
    "            if len(sentence) > 1:\n",
    "                sentence_probability = 1.0\n",
    "                prev_token = sentence[0]\n",
    "                for token in sentence[1:]:\n",
    "                    token_probability = self.bigram_probability(\n",
    "                        prev_token, token)\n",
    "                    sentence_probability *= token_probability\n",
    "                    prev_token = token\n",
    "                if sentence_probability != 0:\n",
    "                    perplexity_values.append(\n",
    "                        math.pow(sentence_probability, -1 / len(sentence)))\n",
    "\n",
    "        return sum(perplexity_values) / len(perplexity_values)"
   ]
  },
  {
   "cell_type": "code",
   "execution_count": 70,
   "metadata": {},
   "outputs": [
    {
     "name": "stdout",
     "output_type": "stream",
     "text": [
      "Perplexity: 4660.14958528491\n"
     ]
    }
   ],
   "source": [
    "model = Bigram_Additive()\n",
    "model.fit(processed_corpus)\n",
    "\n",
    "perplexity = model.perplexity(processed_test)\n",
    "print(\"Perplexity:\", perplexity)"
   ]
  },
  {
   "cell_type": "markdown",
   "metadata": {},
   "source": [
    "### Trigram"
   ]
  },
  {
   "cell_type": "code",
   "execution_count": 71,
   "metadata": {},
   "outputs": [],
   "source": [
    "class Trigram_Additive:\n",
    "\n",
    "    def __init__(self):\n",
    "        self.trigram_freq = {}\n",
    "        self.bigram_freq = {}\n",
    "        self.unigram_freq = {}\n",
    "        self.V = 0\n",
    "        self.alpha=0.5\n",
    "\n",
    "    def fit(self, processed_corpus):\n",
    "        for sentence in processed_corpus:\n",
    "            prev_token1, prev_token2 = None, None\n",
    "            for token in sentence:\n",
    "                if token in self.unigram_freq:\n",
    "                    self.unigram_freq[token] += 1\n",
    "                else:\n",
    "                    self.unigram_freq[token] = 1\n",
    "                    self.V += 1\n",
    "\n",
    "                if prev_token1 is not None and prev_token2 is not None:\n",
    "                    trigram = (prev_token1, prev_token2, token)\n",
    "                    if trigram in self.trigram_freq:\n",
    "                        self.trigram_freq[trigram] += 1\n",
    "                    else:\n",
    "                        self.trigram_freq[trigram] = 1\n",
    "\n",
    "                if prev_token2 is not None:\n",
    "                    bigram = (prev_token2, token)\n",
    "                    if bigram in self.bigram_freq:\n",
    "                        self.bigram_freq[bigram] += 1\n",
    "                    else:\n",
    "                        self.bigram_freq[bigram] = 1\n",
    "\n",
    "                prev_token1, prev_token2 = prev_token2, token\n",
    "\n",
    "    def trigram_probability(self, prev_token1, prev_token2, token):\n",
    "        trigram = (prev_token1, prev_token2, token)\n",
    "        if trigram in self.trigram_freq:\n",
    "            return (self.trigram_freq[trigram] + 1*self.alpha) / (self.bigram_freq[(prev_token1, prev_token2)]+ self.V*self.alpha)\n",
    "        else:\n",
    "            if (prev_token1, prev_token2) in self.bigram_freq:\n",
    "                return (1*self.alpha) / (self.bigram_freq[(prev_token1, prev_token2)] + self.V*self.alpha)\n",
    "            else:\n",
    "                return (1*self.alpha) / (self.V*self.alpha)\n",
    "\n",
    "    def perplexity(self, processed_test):\n",
    "        perplexity_values = []\n",
    "        for sentence in processed_test:\n",
    "            if len(sentence) > 2:\n",
    "                sentence_probability = 1.0\n",
    "                prev_token1, prev_token2 = sentence[0], sentence[1]\n",
    "                for token in sentence[2:]:\n",
    "                    token_probability = self.trigram_probability(\n",
    "                        prev_token1, prev_token2, token)\n",
    "                    sentence_probability *= token_probability\n",
    "                    prev_token1, prev_token2 = prev_token2, token\n",
    "                if sentence_probability != 0:\n",
    "                    perplexity_values.append(\n",
    "                        math.pow(sentence_probability, -1 / len(sentence)))\n",
    "\n",
    "        return sum(perplexity_values) / len(perplexity_values)"
   ]
  },
  {
   "cell_type": "code",
   "execution_count": 72,
   "metadata": {},
   "outputs": [
    {
     "name": "stdout",
     "output_type": "stream",
     "text": [
      "Perplexity: 5621.262617186284\n"
     ]
    }
   ],
   "source": [
    "model = Trigram_Additive()\n",
    "model.fit(processed_corpus)\n",
    "\n",
    "perplexity = model.perplexity(processed_test)\n",
    "print(\"Perplexity:\", perplexity)"
   ]
  },
  {
   "cell_type": "markdown",
   "metadata": {},
   "source": [
    "### Quadgram"
   ]
  },
  {
   "cell_type": "code",
   "execution_count": 73,
   "metadata": {},
   "outputs": [],
   "source": [
    "class Quadgram_Additive:\n",
    "\n",
    "    def __init__(self):\n",
    "        self.quadgram_freq = {}\n",
    "        self.trigram_freq = {}\n",
    "        self.bigram_freq = {}\n",
    "        self.unigram_freq = {}\n",
    "        self.V = 0\n",
    "        self.alpha=0.5\n",
    "\n",
    "    def fit(self, processed_corpus):\n",
    "        for sentence in processed_corpus:\n",
    "            prev_token1, prev_token2, prev_token3 = None, None, None\n",
    "            for token in sentence:\n",
    "                if token in self.unigram_freq:\n",
    "                    self.unigram_freq[token] += 1\n",
    "                else:\n",
    "                    self.unigram_freq[token] = 1\n",
    "                    self.V += 1\n",
    "\n",
    "                if prev_token1 is not None and prev_token2 is not None and prev_token3 is not None:\n",
    "                    quadgram = (prev_token1, prev_token2, prev_token3, token)\n",
    "                    if quadgram in self.quadgram_freq:\n",
    "                        self.quadgram_freq[quadgram] += 1\n",
    "                    else:\n",
    "                        self.quadgram_freq[quadgram] = 1\n",
    "\n",
    "                if prev_token2 is not None and prev_token3 is not None:\n",
    "                    trigram = (prev_token2, prev_token3, token)\n",
    "                    if trigram in self.trigram_freq:\n",
    "                        self.trigram_freq[trigram] += 1\n",
    "                    else:\n",
    "                        self.trigram_freq[trigram] = 1\n",
    "\n",
    "                if prev_token3 is not None:\n",
    "                    bigram = (prev_token3, token)\n",
    "                    if bigram in self.bigram_freq:\n",
    "                        self.bigram_freq[bigram] += 1\n",
    "                    else:\n",
    "                        self.bigram_freq[bigram] = 1\n",
    "\n",
    "                prev_token1, prev_token2, prev_token3 = prev_token2, prev_token3, token\n",
    "\n",
    "    def quadgram_probability(self, prev_token1, prev_token2, prev_token3, token):\n",
    "        quadgram = (prev_token1, prev_token2, prev_token3, token)\n",
    "        if quadgram in self.quadgram_freq:\n",
    "            return (self.quadgram_freq[quadgram] + 1*self.alpha) / (self.trigram_freq[(prev_token1, prev_token2, prev_token3)]+ self.V*self.alpha)\n",
    "        else:\n",
    "            if (prev_token1, prev_token2, prev_token3) in self.trigram_freq:\n",
    "                return (1*self.alpha) / (self.trigram_freq[(prev_token1, prev_token2, prev_token3)] + self.V*self.alpha)\n",
    "            else:\n",
    "                return (1*self.alpha) / (self.V*self.alpha)\n",
    "\n",
    "    def perplexity(self, processed_test):\n",
    "        perplexity_values = []\n",
    "        for sentence in processed_test:\n",
    "            if len(sentence) > 3:\n",
    "                sentence_probability = 1.0\n",
    "                prev_token1, prev_token2, prev_token3 = sentence[0], sentence[1], sentence[2]\n",
    "                for token in sentence[3:]:\n",
    "                    token_probability = self.quadgram_probability(\n",
    "                        prev_token1, prev_token2, prev_token3, token)\n",
    "                    sentence_probability *= token_probability\n",
    "                    prev_token1, prev_token2, prev_token3 = prev_token2, prev_token3, token\n",
    "                if sentence_probability != 0:\n",
    "                    perplexity_values.append(\n",
    "                        math.pow(sentence_probability, -1 / len(sentence)))\n",
    "\n",
    "        return sum(perplexity_values) / len(perplexity_values)"
   ]
  },
  {
   "cell_type": "code",
   "execution_count": 74,
   "metadata": {},
   "outputs": [
    {
     "name": "stdout",
     "output_type": "stream",
     "text": [
      "Perplexity: 3111.5597963610976\n"
     ]
    }
   ],
   "source": [
    "model = Quadgram_Additive()\n",
    "model.fit(processed_corpus)\n",
    "\n",
    "perplexity = model.perplexity(processed_test)\n",
    "print(\"Perplexity:\", perplexity)"
   ]
  },
  {
   "cell_type": "markdown",
   "metadata": {},
   "source": [
    "### Plots"
   ]
  },
  {
   "cell_type": "code",
   "execution_count": 75,
   "metadata": {},
   "outputs": [
    {
     "name": "stdout",
     "output_type": "stream",
     "text": [
      "Unigram Perplexity: 23216.1197684928\n",
      "Bigram Perplexity: 4660.14958528491\n",
      "Trigram Perplexity: 5621.262617186284\n",
      "Quadgram Perplexity: 3111.5597963610976\n"
     ]
    },
    {
     "data": {
      "image/png": "[encoded data removed]",
      "text/plain": [
       "<Figure size 1000x600 with 1 Axes>"
      ]
     },
     "metadata": {},
     "output_type": "display_data"
    }
   ],
   "source": [
    "import matplotlib.pyplot as plt\n",
    "\n",
    "n_gram_models = [Unigram_Additive(), Bigram_Additive(), Trigram_Additive(), Quadgram_Additive()]\n",
    "\n",
    "corpus = [processed_corpus_uni, processed_corpus, processed_corpus, processed_corpus]\n",
    "test_data = [processed_test_uni, processed_test, processed_test, processed_test]\n",
    "\n",
    "perplexities = []\n",
    "\n",
    "n_gram_labels = [\"Unigram\", \"Bigram\", \"Trigram\", \"Quadgram\"]\n",
    "\n",
    "for i, model in enumerate(n_gram_models):\n",
    "    model.fit(corpus[i])\n",
    "    perplexity = model.perplexity(test_data[i])\n",
    "    perplexities.append(perplexity)\n",
    "    print(f\"{n_gram_labels[i]} Perplexity: {perplexity}\")\n",
    "\n",
    "\n",
    "plt.figure(figsize=(10, 6))\n",
    "plt.plot(n_gram_labels, perplexities, marker='o', linestyle='-')\n",
    "plt.xlabel(\"N-gram Model\")\n",
    "plt.ylabel(\"Perplexity\")\n",
    "plt.title(\"Perplexity of N-gram Language Models\")\n",
    "plt.grid(True)\n",
    "plt.show()\n"
   ]
  },
  {
   "cell_type": "markdown",
   "metadata": {},
   "source": [
    "## With Good Turing Smoothing"
   ]
  },
  {
   "cell_type": "markdown",
   "metadata": {},
   "source": [
    "### Unigram"
   ]
  },
  {
   "cell_type": "code",
   "execution_count": 76,
   "metadata": {},
   "outputs": [],
   "source": [
    "class Unigram_GoodTuring:\n",
    "\n",
    "    def __init__(self):\n",
    "        self.unigram_freq = {}\n",
    "        self.total_tokens = 0\n",
    "        self.counts = {}  # For Good-Turing counts\n",
    "\n",
    "    def fit(self, processed_corpus):\n",
    "        for sentence in processed_corpus:\n",
    "            for token in sentence:\n",
    "                self.total_tokens += 1\n",
    "                if token in self.unigram_freq:\n",
    "                    self.unigram_freq[token] += 1\n",
    "                else:\n",
    "                    self.unigram_freq[token] = 1\n",
    "\n",
    "        # Calculate Good-Turing counts\n",
    "        for count in self.unigram_freq.values():\n",
    "            if count in self.counts:\n",
    "                self.counts[count] += 1\n",
    "            else:\n",
    "                self.counts[count] = 1\n",
    "\n",
    "    def unigram_probability(self, token):\n",
    "        if token in self.unigram_freq:\n",
    "            count = self.unigram_freq[token]\n",
    "        else:\n",
    "            count = 0\n",
    "\n",
    "        if count in self.counts:\n",
    "            Nc = self.counts[count]  # Number of times a count appears\n",
    "            Nc_plus_1 = self.counts.get(count + 1, 0)  # Number of times count+1 appears\n",
    "            if Nc != 0 and Nc_plus_1 != 0:\n",
    "                return (count + 1) * (Nc_plus_1 / Nc) / self.total_tokens\n",
    "            else:\n",
    "                return count / self.total_tokens\n",
    "        else:\n",
    "            return 0\n",
    "\n",
    "    def perplexity(self, processed_test):\n",
    "        perplexity_values = []\n",
    "        for sentence in processed_test:\n",
    "            if len(sentence) > 0:\n",
    "                sentence_probability = 1.0\n",
    "                for token in sentence:\n",
    "                    token_probability = self.unigram_probability(token)\n",
    "                    sentence_probability *= token_probability\n",
    "                if sentence_probability != 0:\n",
    "                    perplexity_values.append((math.pow(sentence_probability, -1 / len(sentence))))\n",
    "\n",
    "        return sum(perplexity_values) / len(perplexity_values)\n"
   ]
  },
  {
   "cell_type": "code",
   "execution_count": 77,
   "metadata": {},
   "outputs": [
    {
     "name": "stdout",
     "output_type": "stream",
     "text": [
      "Perplexity: 15717.081839426002\n"
     ]
    }
   ],
   "source": [
    "model = Unigram_GoodTuring()\n",
    "model.fit(processed_corpus_uni)\n",
    "\n",
    "perplexity = model.perplexity(processed_test_uni)\n",
    "print(\"Perplexity:\", perplexity)"
   ]
  },
  {
   "cell_type": "markdown",
   "metadata": {},
   "source": [
    "### Bigram"
   ]
  },
  {
   "cell_type": "code",
   "execution_count": 78,
   "metadata": {},
   "outputs": [],
   "source": [
    "class Bigram_GoodTuring:\n",
    "\n",
    "    def __init__(self):\n",
    "        self.bigram_freq = {}\n",
    "        self.unigram_freq = {}\n",
    "        self.counts = {}  # For Good-Turing counts\n",
    "\n",
    "    def fit(self, processed_corpus):\n",
    "        for sentence in processed_corpus:\n",
    "            prev_token = None\n",
    "            for token in sentence:\n",
    "                if token in self.unigram_freq:\n",
    "                    self.unigram_freq[token] += 1\n",
    "                else:\n",
    "                    self.unigram_freq[token] = 1\n",
    "\n",
    "                if prev_token is not None:\n",
    "                    bigram = (prev_token, token)\n",
    "                    if bigram in self.bigram_freq:\n",
    "                        self.bigram_freq[bigram] += 1\n",
    "                    else:\n",
    "                        self.bigram_freq[bigram] = 1\n",
    "                prev_token = token\n",
    "\n",
    "        # Calculate Good-Turing counts\n",
    "        for count in self.bigram_freq.values():\n",
    "            if count in self.counts:\n",
    "                self.counts[count] += 1\n",
    "            else:\n",
    "                self.counts[count] = 1\n",
    "\n",
    "    def bigram_probability(self, prev_token, token):\n",
    "        bigram = (prev_token, token)\n",
    "\n",
    "        if bigram in self.bigram_freq:\n",
    "            count = self.bigram_freq[bigram]\n",
    "        else:\n",
    "            count = 0\n",
    "\n",
    "        if prev_token in self.unigram_freq:\n",
    "            unigram_count = self.unigram_freq[prev_token]\n",
    "        else:\n",
    "            unigram_count = 0\n",
    "\n",
    "        if count in self.counts:\n",
    "            Nc = self.counts[count]  # Number of times a count appears\n",
    "            Nc_plus_1 = self.counts.get(count + 1, 0)  # Number of times count+1 appears\n",
    "\n",
    "            if Nc != 0 and Nc_plus_1 != 0:\n",
    "                return (count + 1) * (Nc_plus_1 / Nc) / unigram_count\n",
    "            else:\n",
    "                return count / unigram_count\n",
    "        else:\n",
    "            return 0\n",
    "\n",
    "    def perplexity(self, processed_test):\n",
    "        perplexity_values = []\n",
    "        for sentence in processed_test:\n",
    "            if len(sentence) > 1:\n",
    "                sentence_probability = 1.0\n",
    "                prev_token = sentence[0]\n",
    "                for token in sentence[1:]:\n",
    "                    token_probability = self.bigram_probability(prev_token, token)\n",
    "                    sentence_probability *= token_probability\n",
    "                    prev_token = token\n",
    "                if sentence_probability != 0:\n",
    "                    perplexity_values.append(math.pow(sentence_probability, -1 / len(sentence)))\n",
    "\n",
    "        return sum(perplexity_values) / len(perplexity_values)\n"
   ]
  },
  {
   "cell_type": "code",
   "execution_count": 79,
   "metadata": {},
   "outputs": [
    {
     "name": "stdout",
     "output_type": "stream",
     "text": [
      "Perplexity: 82.27606618444045\n"
     ]
    }
   ],
   "source": [
    "model = Bigram_GoodTuring()\n",
    "model.fit(processed_corpus)\n",
    "\n",
    "perplexity = model.perplexity(processed_test)\n",
    "print(\"Perplexity:\", perplexity)"
   ]
  },
  {
   "cell_type": "markdown",
   "metadata": {},
   "source": [
    "### Trigram"
   ]
  },
  {
   "cell_type": "code",
   "execution_count": 80,
   "metadata": {},
   "outputs": [],
   "source": [
    "class Trigram_GoodTuring:\n",
    "\n",
    "    def __init__(self):\n",
    "        self.trigram_freq = {}\n",
    "        self.bigram_freq = {}\n",
    "        self.counts = {}  # For Good-Turing counts\n",
    "\n",
    "    def fit(self, processed_corpus):\n",
    "        for sentence in processed_corpus:\n",
    "            prev_token1 = None\n",
    "            prev_token2 = None\n",
    "            for token in sentence:\n",
    "                if prev_token1 is not None and prev_token2 is not None:\n",
    "                    trigram = (prev_token1, prev_token2, token)\n",
    "                    if trigram in self.trigram_freq:\n",
    "                        self.trigram_freq[trigram] += 1\n",
    "                    else:\n",
    "                        self.trigram_freq[trigram] = 1\n",
    "\n",
    "                    bigram = (prev_token1, prev_token2)\n",
    "                    if bigram in self.bigram_freq:\n",
    "                        self.bigram_freq[bigram] += 1\n",
    "                    else:\n",
    "                        self.bigram_freq[bigram] = 1\n",
    "\n",
    "                prev_token1 = prev_token2\n",
    "                prev_token2 = token\n",
    "\n",
    "        # Calculate Good-Turing counts for trigrams\n",
    "        for count in self.trigram_freq.values():\n",
    "            if count in self.counts:\n",
    "                self.counts[count] += 1\n",
    "            else:\n",
    "                self.counts[count] = 1\n",
    "\n",
    "    def trigram_probability(self, prev_token1, prev_token2, token):\n",
    "        trigram = (prev_token1, prev_token2, token)\n",
    "\n",
    "        if trigram in self.trigram_freq:\n",
    "            count = self.trigram_freq[trigram]\n",
    "        else:\n",
    "            count = 0\n",
    "\n",
    "        bigram = (prev_token1, prev_token2)\n",
    "        if bigram in self.bigram_freq:\n",
    "            bigram_count = self.bigram_freq[bigram]\n",
    "        else:\n",
    "            bigram_count = 0\n",
    "\n",
    "        if count in self.counts:\n",
    "            Nc = self.counts[count]  # Number of times a count appears\n",
    "            Nc_plus_1 = self.counts.get(count + 1, 0)  # Number of times count+1 appears\n",
    "\n",
    "            if Nc != 0 and Nc_plus_1 != 0:\n",
    "                return (count + 1) * (Nc_plus_1 / Nc) / bigram_count\n",
    "            else:\n",
    "                return count / bigram_count\n",
    "        else:\n",
    "            return 0\n",
    "\n",
    "    def perplexity(self, processed_test):\n",
    "        perplexity_values = []\n",
    "        for sentence in processed_test:\n",
    "            if len(sentence) > 2:\n",
    "                sentence_probability = 1.0\n",
    "                prev_token1 = sentence[0]\n",
    "                prev_token2 = sentence[1]\n",
    "                for token in sentence[2:]:\n",
    "                    token_probability = self.trigram_probability(prev_token1, prev_token2, token)\n",
    "                    sentence_probability *= token_probability\n",
    "                    prev_token1 = prev_token2\n",
    "                    prev_token2 = token\n",
    "                if sentence_probability != 0:\n",
    "                    perplexity_values.append(math.pow(sentence_probability, -1 / len(sentence)))\n",
    "\n",
    "        return sum(perplexity_values) / len(perplexity_values)\n"
   ]
  },
  {
   "cell_type": "code",
   "execution_count": 81,
   "metadata": {},
   "outputs": [
    {
     "name": "stdout",
     "output_type": "stream",
     "text": [
      "Perplexity: 5.800523343118439\n"
     ]
    }
   ],
   "source": [
    "model = Trigram_GoodTuring()\n",
    "model.fit(processed_corpus)\n",
    "\n",
    "perplexity = model.perplexity(processed_test)\n",
    "print(\"Perplexity:\", perplexity)"
   ]
  },
  {
   "cell_type": "markdown",
   "metadata": {},
   "source": [
    "### Quadgram"
   ]
  },
  {
   "cell_type": "code",
   "execution_count": 82,
   "metadata": {},
   "outputs": [],
   "source": [
    "class Quadgram_GoodTuring:\n",
    "\n",
    "    def __init__(self):\n",
    "        self.quadgram_freq = {}\n",
    "        self.trigram_freq = {}\n",
    "\n",
    "    def fit(self, processed_corpus):\n",
    "        for sentence in processed_corpus:\n",
    "            prev_token1 = None\n",
    "            prev_token2 = None\n",
    "            prev_token3 = None\n",
    "            for token in sentence:\n",
    "                if prev_token1 is not None and prev_token2 is not None and prev_token3 is not None:\n",
    "                    quadgram = (prev_token1, prev_token2, prev_token3, token)\n",
    "                    if quadgram in self.quadgram_freq:\n",
    "                        self.quadgram_freq[quadgram] += 1\n",
    "                    else:\n",
    "                        self.quadgram_freq[quadgram] = 1\n",
    "\n",
    "                    trigram = (prev_token1, prev_token2, prev_token3)\n",
    "                    if trigram in self.trigram_freq:\n",
    "                        self.trigram_freq[trigram] += 1\n",
    "                    else:\n",
    "                        self.trigram_freq[trigram] = 1\n",
    "                \n",
    "                prev_token1 = prev_token2\n",
    "                prev_token2 = prev_token3\n",
    "                prev_token3 = token\n",
    "\n",
    "    def quadgram_probability(self, prev_token1, prev_token2, prev_token3, token):\n",
    "        quadgram = (prev_token1, prev_token2, prev_token3, token)\n",
    "        if quadgram in self.quadgram_freq:\n",
    "            return self.quadgram_freq[quadgram] / self.trigram_freq[(prev_token1, prev_token2, prev_token3)]\n",
    "        else:\n",
    "            return 0\n",
    "\n",
    "    def perplexity(self, processed_test):\n",
    "        perplexity_values = []\n",
    "        for sentence in processed_test:\n",
    "            if len(sentence) > 3:\n",
    "                sentence_probability = 1.0\n",
    "                prev_token1 = sentence[0]\n",
    "                prev_token2 = sentence[1]\n",
    "                prev_token3 = sentence[2]\n",
    "                for token in sentence[3:]:\n",
    "                    token_probability = self.quadgram_probability(prev_token1, prev_token2, prev_token3, token)\n",
    "                    sentence_probability *= token_probability\n",
    "                    prev_token1 = prev_token2\n",
    "                    prev_token2 = prev_token3\n",
    "                    prev_token3 = token\n",
    "                if sentence_probability != 0:\n",
    "                    perplexity_values.append(math.pow(sentence_probability, -1 / len(sentence)))\n",
    "\n",
    "        return sum(perplexity_values) / len(perplexity_values)"
   ]
  },
  {
   "cell_type": "code",
   "execution_count": 83,
   "metadata": {},
   "outputs": [
    {
     "name": "stdout",
     "output_type": "stream",
     "text": [
      "Perplexity: 1.149506504412479\n"
     ]
    }
   ],
   "source": [
    "model = Quadgram_GoodTuring()\n",
    "model.fit(processed_corpus)\n",
    "\n",
    "perplexity = model.perplexity(processed_test)\n",
    "print(\"Perplexity:\", perplexity)"
   ]
  },
  {
   "cell_type": "markdown",
   "metadata": {},
   "source": [
    "### Plots"
   ]
  },
  {
   "cell_type": "code",
   "execution_count": 84,
   "metadata": {},
   "outputs": [
    {
     "name": "stdout",
     "output_type": "stream",
     "text": [
      "Unigram Perplexity: 15717.081839426002\n",
      "Bigram Perplexity: 82.27606618444045\n",
      "Trigram Perplexity: 5.800523343118439\n",
      "Quadgram Perplexity: 1.149506504412479\n"
     ]
    },
    {
     "data": {
      "image/png": "[encoded data removed]",
      "text/plain": [
       "<Figure size 1000x600 with 1 Axes>"
      ]
     },
     "metadata": {},
     "output_type": "display_data"
    }
   ],
   "source": [
    "n_gram_models = [Unigram_GoodTuring(), Bigram_GoodTuring(), Trigram_GoodTuring(), Quadgram_GoodTuring()]\n",
    "\n",
    "corpus = [processed_corpus_uni, processed_corpus, processed_corpus, processed_corpus]\n",
    "test_data = [processed_test_uni, processed_test, processed_test, processed_test]\n",
    "\n",
    "perplexities = []\n",
    "\n",
    "n_gram_labels = [\"Unigram\", \"Bigram\", \"Trigram\", \"Quadgram\"]\n",
    "\n",
    "for i, model in enumerate(n_gram_models):\n",
    "    model.fit(corpus[i])\n",
    "    perplexity = model.perplexity(test_data[i])\n",
    "    perplexities.append(perplexity)\n",
    "    print(f\"{n_gram_labels[i]} Perplexity: {perplexity}\")\n",
    "\n",
    "\n",
    "plt.figure(figsize=(10, 6))\n",
    "plt.plot(n_gram_labels, perplexities, marker='o', linestyle='-')\n",
    "plt.xlabel(\"N-gram Model\")\n",
    "plt.ylabel(\"Perplexity\")\n",
    "plt.title(\"Perplexity of N-gram Language Models\")\n",
    "plt.grid(True)\n",
    "plt.show()\n"
   ]
  },
  {
   "cell_type": "markdown",
   "metadata": {},
   "source": [
    "## Laplace vs Additive Smoothing"
   ]
  },
  {
   "cell_type": "code",
   "execution_count": 85,
   "metadata": {},
   "outputs": [
    {
     "name": "stdout",
     "output_type": "stream",
     "text": [
      "  N-gram Model  Additive Smoothing  Laplace Smoothing\n",
      "0      Unigram        23216.119768       17603.901090\n",
      "1       Bigram         4660.149585        4567.153851\n",
      "2      Trigram         5621.262617        1957.548537\n",
      "3     Quadgram         3111.559796        1946.363086\n"
     ]
    },
    {
     "data": {
      "image/png": "[encoded data removed]",
      "text/plain": [
       "<Figure size 1200x600 with 1 Axes>"
      ]
     },
     "metadata": {},
     "output_type": "display_data"
    }
   ],
   "source": [
    "n_gram_models1 = [Unigram_Additive(), Bigram_Additive(), Trigram_Additive(), Quadgram_Additive()]\n",
    "corpus1 = [processed_corpus_uni, processed_corpus, processed_corpus, processed_corpus]\n",
    "test_data1 = [processed_test_uni, processed_test, processed_test, processed_test]\n",
    "\n",
    "n_gram_models2 = [Unigram_Laplace(), Bigram_Laplace(), Trigram_Laplace(), Quadgram_Laplace()]\n",
    "corpus2 = [processed_corpus_uni, processed_corpus, processed_corpus, processed_corpus]\n",
    "test_data2 = [processed_test_uni, processed_test, processed_test, processed_test]\n",
    "\n",
    "n_gram_labels = [\"Unigram\", \"Bigram\", \"Trigram\", \"Quadgram\"]\n",
    "\n",
    "perplexities1 = []\n",
    "perplexities2 = [17603.901090 ,4567.153851 , 1957.548537 ,1946.363086]\n",
    "\n",
    "for i, model in enumerate(n_gram_models1):\n",
    "    model.fit(corpus1[i])\n",
    "    perplexity = model.perplexity(test_data1[i])\n",
    "    perplexities1.append(perplexity)\n",
    "\n",
    "\n",
    "data = {\n",
    "    \"N-gram Model\": n_gram_labels,\n",
    "    \"Additive Smoothing\": perplexities1,\n",
    "    \"Laplace Smoothing\": perplexities2\n",
    "}\n",
    "df = pd.DataFrame(data)\n",
    "\n",
    "plt.figure(figsize=(12, 6))\n",
    "\n",
    "x = np.arange(len(n_gram_labels))\n",
    "\n",
    "plt.plot(x, perplexities1, marker='o', linestyle='-', label=\"Additive Smoothing\")\n",
    "plt.plot(x, perplexities2, marker='o', linestyle='-', label=\"Laplace Smoothing\")\n",
    "plt.xticks(x, n_gram_labels)\n",
    "plt.xlabel(\"N-gram Model\")\n",
    "plt.ylabel(\"Perplexity\")\n",
    "plt.legend()\n",
    "plt.grid(True)\n",
    "\n",
    "print(df)\n",
    "\n",
    "plt.show()\n"
   ]
  },
  {
   "cell_type": "markdown",
   "metadata": {},
   "source": [
    "## Good Turing Smoothing vs Additive Smoothing"
   ]
  },
  {
   "cell_type": "code",
   "execution_count": 86,
   "metadata": {},
   "outputs": [
    {
     "name": "stdout",
     "output_type": "stream",
     "text": [
      "  N-gram Model  Good Turing Smoothing  Additive Smoothing\n",
      "0      Unigram           15717.081839        23216.119768\n",
      "1       Bigram              82.276066         4660.149585\n",
      "2      Trigram               5.800523         5621.262617\n",
      "3     Quadgram               1.149507         3111.559796\n"
     ]
    },
    {
     "data": {
      "image/png": "[encoded data removed]",
      "text/plain": [
       "<Figure size 1200x600 with 1 Axes>"
      ]
     },
     "metadata": {},
     "output_type": "display_data"
    }
   ],
   "source": [
    "n_gram_models1 = [Unigram_GoodTuring(), Bigram_GoodTuring(), Trigram_GoodTuring(), Quadgram_GoodTuring()]\n",
    "corpus1 = [processed_corpus_uni, processed_corpus, processed_corpus, processed_corpus]\n",
    "test_data1 = [processed_test_uni, processed_test, processed_test, processed_test]\n",
    "\n",
    "n_gram_models2 = [Unigram_Additive(), Bigram_Additive(), Trigram_Additive(), Quadgram_Additive()]\n",
    "corpus2 = [processed_corpus_uni, processed_corpus, processed_corpus, processed_corpus]\n",
    "test_data2 = [processed_test_uni, processed_test, processed_test, processed_test]\n",
    "\n",
    "\n",
    "n_gram_labels = [\"Unigram\", \"Bigram\", \"Trigram\", \"Quadgram\"]\n",
    "\n",
    "perplexities1 = []\n",
    "perplexities2 = []\n",
    "\n",
    "for i, model in enumerate(n_gram_models1):\n",
    "    model.fit(corpus1[i])\n",
    "    perplexity = model.perplexity(test_data1[i])\n",
    "    perplexities1.append(perplexity)\n",
    "\n",
    "for i, model in enumerate(n_gram_models2):\n",
    "    model.fit(corpus2[i])\n",
    "    perplexity = model.perplexity(test_data2[i])\n",
    "    perplexities2.append(perplexity)\n",
    "\n",
    "data = {\n",
    "    \"N-gram Model\": n_gram_labels,\n",
    "    \"Good Turing Smoothing\": perplexities1,\n",
    "    \"Additive Smoothing\": perplexities2,\n",
    "}\n",
    "df = pd.DataFrame(data)\n",
    "\n",
    "plt.figure(figsize=(12, 6))\n",
    "\n",
    "x = np.arange(len(n_gram_labels))\n",
    "\n",
    "plt.plot(x, perplexities1, linestyle='-', label=\"Good Turing Smoothing\")\n",
    "plt.plot(x, perplexities2, linestyle='-', label=\"Additive Smoothing\")\n",
    "plt.xticks(x, n_gram_labels)\n",
    "plt.xlabel(\"N-gram Model\")\n",
    "plt.ylabel(\"Perplexity\")\n",
    "plt.legend()\n",
    "plt.grid(True)\n",
    "\n",
    "print(df)\n",
    "\n",
    "plt.show()\n"
   ]
  }
 ],
 "metadata": {
  "kernelspec": {
   "display_name": "Python 3",
   "language": "python",
   "name": "python3"
  },
  "language_info": {
   "codemirror_mode": {
    "name": "ipython",
    "version": 3
   },
   "file_extension": ".py",
   "mimetype": "text/x-python",
   "name": "python",
   "nbconvert_exporter": "python",
   "pygments_lexer": "ipython3",
   "version": "3.11.5"
  },
  "orig_nbformat": 4
 },
 "nbformat": 4,
 "nbformat_minor": 2
}
